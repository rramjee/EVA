{
  "nbformat": 4,
  "nbformat_minor": 0,
  "metadata": {
    "colab": {
      "name": "Assignment5.ipynb",
      "version": "0.3.2",
      "provenance": [],
      "collapsed_sections": []
    },
    "kernelspec": {
      "name": "python3",
      "display_name": "Python 3"
    },
    "accelerator": "GPU"
  },
  "cells": [
    {
      "cell_type": "markdown",
      "metadata": {
        "id": "aNyZv-Ec52ot",
        "colab_type": "text"
      },
      "source": [
        "# **Import Libraries and modules**"
      ]
    },
    {
      "cell_type": "markdown",
      "metadata": {
        "id": "1j3XBfmFgjKz",
        "colab_type": "text"
      },
      "source": [
        "\n",
        "\n",
        "```\n",
        "# Fourth Iteration:\n",
        "1. The improvement in accuracy at the end of 3rd iteration is very slow and hence planning to apply a learning rate using a scheduler with ADAM/SGD so that we reach required accuracy at optimum speed.\n",
        "2. Adding drop out to prevent overfitting and to improve the validation or test accuracy.\n",
        "3. Reducing the number of kernels to reduce the parameters to less than 15K\n",
        "\n"
      ]
    },
    {
      "cell_type": "code",
      "metadata": {
        "id": "3m3w1Cw49Zkt",
        "colab_type": "code",
        "colab": {}
      },
      "source": [
        "# https://keras.io/\n",
        "# Installing Keras Library. This is designed to run on top of the tensorflow framework\n",
        "!pip install -q keras\n",
        "import keras"
      ],
      "execution_count": 0,
      "outputs": []
    },
    {
      "cell_type": "code",
      "metadata": {
        "id": "Eso6UHE080D4",
        "colab_type": "code",
        "colab": {}
      },
      "source": [
        "# Importing all the required classes from numpy and keras libraries. We will be calling the methods from these classes to perform required action in our following code.\n",
        "import numpy as np\n",
        "\n",
        "\n",
        "from keras.models import Sequential\n",
        "from keras.layers import Dense, Dropout, Activation, Flatten, Add,BatchNormalization\n",
        "from keras.layers import Convolution2D, MaxPooling2D\n",
        "from keras.preprocessing.image import ImageDataGenerator\n",
        "from keras.utils import np_utils\n",
        "\n",
        "from keras.datasets import mnist\n",
        "from keras.regularizers import l2\n",
        "from keras import regularizers\n"
      ],
      "execution_count": 0,
      "outputs": []
    },
    {
      "cell_type": "markdown",
      "metadata": {
        "id": "zByEi95J86RD",
        "colab_type": "text"
      },
      "source": [
        "### Load pre-shuffled MNIST data into train and test sets"
      ]
    },
    {
      "cell_type": "code",
      "metadata": {
        "id": "7eRM0QWN83PV",
        "colab_type": "code",
        "colab": {}
      },
      "source": [
        "# Downloading MNIST Dataset and also spliting the data into Test and Train set\n",
        "(X_train, y_train), (X_test, y_test) = mnist.load_data()"
      ],
      "execution_count": 0,
      "outputs": []
    },
    {
      "cell_type": "code",
      "metadata": {
        "id": "4a4Be72j8-ZC",
        "colab_type": "code",
        "outputId": "300d4eb7-afea-4d01-df9a-d6af50a249dc",
        "colab": {
          "base_uri": "https://localhost:8080/",
          "height": 303
        }
      },
      "source": [
        "# Printing the shape of Training set dimensions this will help to be able to pass the input layer dimesions to the neural network.\n",
        "# Viewing the first image from training set to get an idea of the images in training set. \n",
        "# So it appears that we have 60,000 samples in our training set, and the images are 28 pixels x 28 pixels each. We can confirm this by plotting the first sample in matplotlib\n",
        "print (X_train.shape)\n",
        "from matplotlib import pyplot as plt\n",
        "%matplotlib inline\n",
        "plt.imshow(X_train[0])"
      ],
      "execution_count": 50,
      "outputs": [
        {
          "output_type": "stream",
          "text": [
            "(60000, 28, 28)\n"
          ],
          "name": "stdout"
        },
        {
          "output_type": "execute_result",
          "data": {
            "text/plain": [
              "<matplotlib.image.AxesImage at 0x7f94d16298d0>"
            ]
          },
          "metadata": {
            "tags": []
          },
          "execution_count": 50
        },
        {
          "output_type": "display_data",
          "data": {
            "image/png": "[encoded data removed]",
            "text/plain": [
              "<Figure size 432x288 with 1 Axes>"
            ]
          },
          "metadata": {
            "tags": []
          }
        }
      ]
    },
    {
      "cell_type": "code",
      "metadata": {
        "id": "dkmprriw9AnZ",
        "colab_type": "code",
        "colab": {}
      },
      "source": [
        "# All gray scale images will have only one channel and that needs to be explicity mentioned. So, we are reshaping all the training and test images to 28*28*1. \n",
        "# Specifically mentioning only one channel.\n",
        "X_train = X_train.reshape(X_train.shape[0], 28, 28,1)\n",
        "X_test = X_test.reshape(X_test.shape[0], 28, 28,1)"
      ],
      "execution_count": 0,
      "outputs": []
    },
    {
      "cell_type": "code",
      "metadata": {
        "id": "X2m4YS4E9CRh",
        "colab_type": "code",
        "colab": {}
      },
      "source": [
        "# Since it is a gray scale image. All the values will be in the range of 0 to 255. Hence normalizing the values to the range of 0 to 1.\n",
        "X_train = X_train.astype('float32')\n",
        "X_test = X_test.astype('float32')\n",
        "X_train /= 255\n",
        "X_test /= 255"
      ],
      "execution_count": 0,
      "outputs": []
    },
    {
      "cell_type": "code",
      "metadata": {
        "id": "0Mn0vAYD9DvB",
        "colab_type": "code",
        "outputId": "368143c3-9e6e-4caa-d069-50940b3b095c",
        "colab": {
          "base_uri": "https://localhost:8080/",
          "height": 34
        }
      },
      "source": [
        "# Since it is a gray scale image. All the values will be in the range of 0 to 255. Hence normalizing the values to the range of 0 to 1.\n",
        "y_train[:10]"
      ],
      "execution_count": 55,
      "outputs": [
        {
          "output_type": "execute_result",
          "data": {
            "text/plain": [
              "array([5, 0, 4, 1, 9, 2, 1, 3, 1, 4], dtype=uint8)"
            ]
          },
          "metadata": {
            "tags": []
          },
          "execution_count": 55
        }
      ]
    },
    {
      "cell_type": "code",
      "metadata": {
        "id": "ZG8JiXR39FHC",
        "colab_type": "code",
        "colab": {}
      },
      "source": [
        "# Using categorical function to get a one hot encoding of the output values. This will help perform the loss function calculations \n",
        "# Convert 1-dimensional class arrays to 10-dimensional class matrices\n",
        "Y_train = np_utils.to_categorical(y_train, 10)\n",
        "Y_test = np_utils.to_categorical(y_test, 10)"
      ],
      "execution_count": 0,
      "outputs": []
    },
    {
      "cell_type": "code",
      "metadata": {
        "id": "fYlFRvKS9HMB",
        "colab_type": "code",
        "outputId": "4de997d0-f043-4207-abb9-baf985dd8374",
        "colab": {
          "base_uri": "https://localhost:8080/",
          "height": 187
        }
      },
      "source": [
        "#Looking at the first ten rows of one hot encoded values of training set\n",
        "Y_train[:10]\n"
      ],
      "execution_count": 28,
      "outputs": [
        {
          "output_type": "execute_result",
          "data": {
            "text/plain": [
              "array([[0., 0., 0., 0., 0., 1., 0., 0., 0., 0.],\n",
              "       [1., 0., 0., 0., 0., 0., 0., 0., 0., 0.],\n",
              "       [0., 0., 0., 0., 1., 0., 0., 0., 0., 0.],\n",
              "       [0., 1., 0., 0., 0., 0., 0., 0., 0., 0.],\n",
              "       [0., 0., 0., 0., 0., 0., 0., 0., 0., 1.],\n",
              "       [0., 0., 1., 0., 0., 0., 0., 0., 0., 0.],\n",
              "       [0., 1., 0., 0., 0., 0., 0., 0., 0., 0.],\n",
              "       [0., 0., 0., 1., 0., 0., 0., 0., 0., 0.],\n",
              "       [0., 1., 0., 0., 0., 0., 0., 0., 0., 0.],\n",
              "       [0., 0., 0., 0., 1., 0., 0., 0., 0., 0.]], dtype=float32)"
            ]
          },
          "metadata": {
            "tags": []
          },
          "execution_count": 28
        }
      ]
    },
    {
      "cell_type": "code",
      "metadata": {
        "id": "cfk6W0fbY50D",
        "colab_type": "code",
        "colab": {
          "base_uri": "https://localhost:8080/",
          "height": 51
        },
        "outputId": "a28efac8-c073-4938-843e-63d1a3160bc5"
      },
      "source": [
        "# create generator that centers pixel values\n",
        "datagen = ImageDataGenerator(featurewise_center=True, featurewise_std_normalization=True)\n",
        "# calculate the mean on the training dataset\n",
        "datagen.fit(X_train)\n",
        "print('Data Generator mean=%.3f, std=%.3f' % (datagen.mean,datagen.std))\n",
        "# calculate the mean on the test dataset\n",
        "datagen.fit(X_test)\n",
        "print('Data Generator mean=%.3f, std=%.3f' % (datagen.mean,datagen.std))\n"
      ],
      "execution_count": 57,
      "outputs": [
        {
          "output_type": "stream",
          "text": [
            "Data Generator mean=0.131, std=0.308\n",
            "Data Generator mean=0.133, std=0.310\n"
          ],
          "name": "stdout"
        }
      ]
    },
    {
      "cell_type": "code",
      "metadata": {
        "id": "SHT8aRgxcksG",
        "colab_type": "code",
        "colab": {
          "base_uri": "https://localhost:8080/",
          "height": 34
        },
        "outputId": "14f07c6c-da94-4258-8dc7-f9cc61b42fb7"
      },
      "source": [
        "train_generator = datagen.flow(X_train,Y_train,batch_size=128,shuffle=False)\n",
        "batchX, batchy = train_generator.next()\n",
        "print(batchX.shape,batchX.mean(),batchX.std())"
      ],
      "execution_count": 58,
      "outputs": [
        {
          "output_type": "stream",
          "text": [
            "(128, 28, 28, 1) -0.016303241 0.9803502\n"
          ],
          "name": "stdout"
        }
      ]
    },
    {
      "cell_type": "code",
      "metadata": {
        "id": "cOLnCvnDcoiZ",
        "colab_type": "code",
        "colab": {
          "base_uri": "https://localhost:8080/",
          "height": 34
        },
        "outputId": "74e55a61-3f21-4623-a624-874baba8a25e"
      },
      "source": [
        "# demonstrate effect on entire training dataset\n",
        "test_generator = datagen.flow(X_test,Y_test,batch_size=128,shuffle=False)\n",
        "batchX, batchy = test_generator.next()\n",
        "print(batchX.shape,batchX.mean(),batchX.std())"
      ],
      "execution_count": 31,
      "outputs": [
        {
          "output_type": "stream",
          "text": [
            "(128, 28, 28, 1) -0.045750923 0.94554704\n"
          ],
          "name": "stdout"
        }
      ]
    },
    {
      "cell_type": "code",
      "metadata": {
        "id": "7v7jCzeScuit",
        "colab_type": "code",
        "colab": {
          "base_uri": "https://localhost:8080/",
          "height": 187
        },
        "outputId": "e73d1e18-462a-43c2-8318-27c4c525a81e"
      },
      "source": [
        "Y_train[:10]"
      ],
      "execution_count": 59,
      "outputs": [
        {
          "output_type": "execute_result",
          "data": {
            "text/plain": [
              "array([[0., 0., 0., 0., 0., 1., 0., 0., 0., 0.],\n",
              "       [1., 0., 0., 0., 0., 0., 0., 0., 0., 0.],\n",
              "       [0., 0., 0., 0., 1., 0., 0., 0., 0., 0.],\n",
              "       [0., 1., 0., 0., 0., 0., 0., 0., 0., 0.],\n",
              "       [0., 0., 0., 0., 0., 0., 0., 0., 0., 1.],\n",
              "       [0., 0., 1., 0., 0., 0., 0., 0., 0., 0.],\n",
              "       [0., 1., 0., 0., 0., 0., 0., 0., 0., 0.],\n",
              "       [0., 0., 0., 1., 0., 0., 0., 0., 0., 0.],\n",
              "       [0., 1., 0., 0., 0., 0., 0., 0., 0., 0.],\n",
              "       [0., 0., 0., 0., 1., 0., 0., 0., 0., 0.]], dtype=float32)"
            ]
          },
          "metadata": {
            "tags": []
          },
          "execution_count": 59
        }
      ]
    },
    {
      "cell_type": "code",
      "metadata": {
        "id": "osKqT73Q9JJB",
        "colab_type": "code",
        "outputId": "f9a37cfc-ca44-4dc5-f0fa-7732af511e7f",
        "colab": {
          "base_uri": "https://localhost:8080/",
          "height": 190
        }
      },
      "source": [
        "from keras.layers import Activation\n",
        "model = Sequential()\n",
        "\n",
        "\n",
        " \n",
        "model.add(Convolution2D(16, 3, 3, input_shape=(28,28,1))) \n",
        "model.add(BatchNormalization())\n",
        "model.add(Activation('relu'))\n",
        "model.add(Dropout(0.2))\n",
        "\n",
        "model.add(Convolution2D(32, 3, 3))\n",
        "model.add(BatchNormalization())\n",
        "model.add(Activation('relu'))\n",
        "model.add(Dropout(0.2))\n",
        "\n",
        "model.add(MaxPooling2D(pool_size=(2, 2))) \n",
        "model.add(Convolution2D(10, 1, 1)) \n",
        "model.add(Activation('relu'))\n",
        "\n",
        "\n",
        "model.add(Convolution2D(16, 3, 3))\n",
        "model.add(BatchNormalization())\n",
        "model.add(Activation('relu'))\n",
        "model.add(Dropout(0.2))\n",
        "\n",
        "\n",
        "#model.add(Convolution2D(10, 1, 1, activation='relu')) \n",
        "\n",
        "model.add(Convolution2D(16, 3, 3))\n",
        "model.add(BatchNormalization())\n",
        "model.add(Activation('relu'))\n",
        "model.add(Dropout(0.2))\n",
        "\n",
        "model.add(Convolution2D(10, 3, 3))\n",
        "model.add(BatchNormalization())\n",
        "model.add(Activation('relu'))\n",
        "model.add(Dropout(0.2))\n",
        "\n",
        "model.add(Convolution2D(10, 6, 6))\n",
        "model.add(Activation('relu'))\n",
        "\n",
        "\n",
        "model.add(Flatten())\n",
        "model.add(Activation('softmax'))"
      ],
      "execution_count": 60,
      "outputs": [
        {
          "output_type": "stream",
          "text": [
            "/usr/local/lib/python3.6/dist-packages/ipykernel_launcher.py:6: UserWarning: Update your `Conv2D` call to the Keras 2 API: `Conv2D(16, (3, 3), input_shape=(28, 28, 1...)`\n",
            "  \n",
            "/usr/local/lib/python3.6/dist-packages/ipykernel_launcher.py:11: UserWarning: Update your `Conv2D` call to the Keras 2 API: `Conv2D(32, (3, 3))`\n",
            "  # This is added back by InteractiveShellApp.init_path()\n",
            "/usr/local/lib/python3.6/dist-packages/ipykernel_launcher.py:17: UserWarning: Update your `Conv2D` call to the Keras 2 API: `Conv2D(10, (1, 1))`\n",
            "/usr/local/lib/python3.6/dist-packages/ipykernel_launcher.py:21: UserWarning: Update your `Conv2D` call to the Keras 2 API: `Conv2D(16, (3, 3))`\n",
            "/usr/local/lib/python3.6/dist-packages/ipykernel_launcher.py:29: UserWarning: Update your `Conv2D` call to the Keras 2 API: `Conv2D(16, (3, 3))`\n",
            "/usr/local/lib/python3.6/dist-packages/ipykernel_launcher.py:34: UserWarning: Update your `Conv2D` call to the Keras 2 API: `Conv2D(10, (3, 3))`\n",
            "/usr/local/lib/python3.6/dist-packages/ipykernel_launcher.py:39: UserWarning: Update your `Conv2D` call to the Keras 2 API: `Conv2D(10, (6, 6))`\n"
          ],
          "name": "stderr"
        }
      ]
    },
    {
      "cell_type": "code",
      "metadata": {
        "id": "TzdAYg1k9K7Z",
        "colab_type": "code",
        "outputId": "2e8f44e1-2ba2-46cc-ac85-49998375fa7e",
        "colab": {
          "base_uri": "https://localhost:8080/",
          "height": 1054
        }
      },
      "source": [
        "model.summary()"
      ],
      "execution_count": 61,
      "outputs": [
        {
          "output_type": "stream",
          "text": [
            "_________________________________________________________________\n",
            "Layer (type)                 Output Shape              Param #   \n",
            "=================================================================\n",
            "conv2d_15 (Conv2D)           (None, 26, 26, 16)        160       \n",
            "_________________________________________________________________\n",
            "batch_normalization_11 (Batc (None, 26, 26, 16)        64        \n",
            "_________________________________________________________________\n",
            "activation_17 (Activation)   (None, 26, 26, 16)        0         \n",
            "_________________________________________________________________\n",
            "dropout_11 (Dropout)         (None, 26, 26, 16)        0         \n",
            "_________________________________________________________________\n",
            "conv2d_16 (Conv2D)           (None, 24, 24, 32)        4640      \n",
            "_________________________________________________________________\n",
            "batch_normalization_12 (Batc (None, 24, 24, 32)        128       \n",
            "_________________________________________________________________\n",
            "activation_18 (Activation)   (None, 24, 24, 32)        0         \n",
            "_________________________________________________________________\n",
            "dropout_12 (Dropout)         (None, 24, 24, 32)        0         \n",
            "_________________________________________________________________\n",
            "max_pooling2d_3 (MaxPooling2 (None, 12, 12, 32)        0         \n",
            "_________________________________________________________________\n",
            "conv2d_17 (Conv2D)           (None, 12, 12, 10)        330       \n",
            "_________________________________________________________________\n",
            "activation_19 (Activation)   (None, 12, 12, 10)        0         \n",
            "_________________________________________________________________\n",
            "conv2d_18 (Conv2D)           (None, 10, 10, 16)        1456      \n",
            "_________________________________________________________________\n",
            "batch_normalization_13 (Batc (None, 10, 10, 16)        64        \n",
            "_________________________________________________________________\n",
            "activation_20 (Activation)   (None, 10, 10, 16)        0         \n",
            "_________________________________________________________________\n",
            "dropout_13 (Dropout)         (None, 10, 10, 16)        0         \n",
            "_________________________________________________________________\n",
            "conv2d_19 (Conv2D)           (None, 8, 8, 16)          2320      \n",
            "_________________________________________________________________\n",
            "batch_normalization_14 (Batc (None, 8, 8, 16)          64        \n",
            "_________________________________________________________________\n",
            "activation_21 (Activation)   (None, 8, 8, 16)          0         \n",
            "_________________________________________________________________\n",
            "dropout_14 (Dropout)         (None, 8, 8, 16)          0         \n",
            "_________________________________________________________________\n",
            "conv2d_20 (Conv2D)           (None, 6, 6, 10)          1450      \n",
            "_________________________________________________________________\n",
            "batch_normalization_15 (Batc (None, 6, 6, 10)          40        \n",
            "_________________________________________________________________\n",
            "activation_22 (Activation)   (None, 6, 6, 10)          0         \n",
            "_________________________________________________________________\n",
            "dropout_15 (Dropout)         (None, 6, 6, 10)          0         \n",
            "_________________________________________________________________\n",
            "conv2d_21 (Conv2D)           (None, 1, 1, 10)          3610      \n",
            "_________________________________________________________________\n",
            "activation_23 (Activation)   (None, 1, 1, 10)          0         \n",
            "_________________________________________________________________\n",
            "flatten_3 (Flatten)          (None, 10)                0         \n",
            "_________________________________________________________________\n",
            "activation_24 (Activation)   (None, 10)                0         \n",
            "=================================================================\n",
            "Total params: 14,326\n",
            "Trainable params: 14,146\n",
            "Non-trainable params: 180\n",
            "_________________________________________________________________\n"
          ],
          "name": "stdout"
        }
      ]
    },
    {
      "cell_type": "code",
      "metadata": {
        "id": "1TzVgowic5RI",
        "colab_type": "code",
        "colab": {
          "base_uri": "https://localhost:8080/",
          "height": 34
        },
        "outputId": "a732f0f9-b259-4875-c660-d43ca1c3a5fa"
      },
      "source": [
        "# Retrieve the saved best results\n",
        "from google.colab import drive\n",
        "drive.mount('/content/gdrive')"
      ],
      "execution_count": 62,
      "outputs": [
        {
          "output_type": "stream",
          "text": [
            "Drive already mounted at /content/gdrive; to attempt to forcibly remount, call drive.mount(\"/content/gdrive\", force_remount=True).\n"
          ],
          "name": "stdout"
        }
      ]
    },
    {
      "cell_type": "code",
      "metadata": {
        "id": "VcXaK1NTdTSO",
        "colab_type": "code",
        "colab": {}
      },
      "source": [
        "#This is to store the weights of the best accuracy to mounted drive\n",
        "from keras.callbacks import ModelCheckpoint\n",
        "filepath=\"/content/gdrive/My Drive/Ramjee-{epoch:02d}-{val_acc:.2f}.hdf5\"\n",
        "checkpoint = ModelCheckpoint(filepath, monitor='val_acc', verbose=1, save_best_only=True, mode='max')\n",
        "callbacks_list = [checkpoint]"
      ],
      "execution_count": 0,
      "outputs": []
    },
    {
      "cell_type": "code",
      "metadata": {
        "id": "QEj75a4noE00",
        "colab_type": "code",
        "colab": {}
      },
      "source": [
        "# custom code to calculate l2 regularized cost\n",
        "import numpy as np\n",
        "def compute_cost_with_regularization(Y_test,y_pred):\n",
        "  squared_weight = 0\n",
        "  for modelLayer in model.layers:\n",
        "    squared_weight = squared_weight + np.sum(np.sum(np.sum(np.square(modelLayer.get_weights()))))\n",
        "  print(squared_weight)\n",
        "\n",
        "  lambda_variable = 1e-4\n",
        "  L2_regularization_cost = (lambda_variable * squared_weight)/(2*128)\n",
        "  Loss = keras.losses.categorical_crossentropy(Y_test,y_pred) + L2_regularization_cost\n",
        "  return Loss\n"
      ],
      "execution_count": 0,
      "outputs": []
    },
    {
      "cell_type": "code",
      "metadata": {
        "id": "Zp6SuGrL9M3h",
        "colab_type": "code",
        "colab": {
          "base_uri": "https://localhost:8080/",
          "height": 2771
        },
        "outputId": "30a887ed-54a2-458b-96ea-370da3d4041c"
      },
      "source": [
        "#model.compile(loss='categorical_crossentropy',\n",
        " #            optimizer='adam',\n",
        "  #           metrics=['accuracy'])\n",
        "\n",
        "from keras.optimizers import Adam, SGD\n",
        "from keras.callbacks import LearningRateScheduler\n",
        "def scheduler(epoch, lr):\n",
        "  return round(0.003 * 1/(1 + 0.319 * epoch), 10)\n",
        "\n",
        "#model.compile(loss='categorical_crossentropy', optimizer=Adam(lr=0.003), metrics=['accuracy'])\n",
        "model.compile(loss=compute_cost_with_regularization, optimizer=Adam(lr=0.003), metrics=['accuracy'])\n",
        "\n",
        "model.fit_generator(\n",
        "        train_generator,\n",
        "        steps_per_epoch=128,\n",
        "        epochs=40,\n",
        "        validation_data=test_generator,\n",
        "        callbacks=callbacks_list,\n",
        "        validation_steps=600) \n",
        "\n"
      ],
      "execution_count": 66,
      "outputs": [
        {
          "output_type": "stream",
          "text": [
            "472.1198822259903\n",
            "Epoch 1/40\n",
            "128/128 [==============================] - 13s 102ms/step - loss: 0.6044 - acc: 0.7751 - val_loss: 0.5336 - val_acc: 0.7867\n",
            "\n",
            "Epoch 00001: val_acc improved from 0.75456 to 0.78673, saving model to /content/gdrive/My Drive/Ramjee-01-0.79.hdf5\n",
            "Epoch 2/40\n",
            "128/128 [==============================] - 9s 67ms/step - loss: 0.5738 - acc: 0.7764 - val_loss: 0.5303 - val_acc: 0.7844\n",
            "\n",
            "Epoch 00002: val_acc did not improve from 0.78673\n",
            "Epoch 3/40\n",
            "128/128 [==============================] - 8s 66ms/step - loss: 0.5613 - acc: 0.7763 - val_loss: 0.5200 - val_acc: 0.7894\n",
            "\n",
            "Epoch 00003: val_acc improved from 0.78673 to 0.78938, saving model to /content/gdrive/My Drive/Ramjee-03-0.79.hdf5\n",
            "Epoch 4/40\n",
            "128/128 [==============================] - 8s 65ms/step - loss: 0.5383 - acc: 0.7850 - val_loss: 0.5336 - val_acc: 0.7859\n",
            "\n",
            "Epoch 00004: val_acc did not improve from 0.78938\n",
            "Epoch 5/40\n",
            "128/128 [==============================] - 8s 65ms/step - loss: 0.5435 - acc: 0.7833 - val_loss: 0.5092 - val_acc: 0.7914\n",
            "\n",
            "Epoch 00005: val_acc improved from 0.78938 to 0.79145, saving model to /content/gdrive/My Drive/Ramjee-05-0.79.hdf5\n",
            "Epoch 6/40\n",
            "128/128 [==============================] - 8s 64ms/step - loss: 0.5431 - acc: 0.7801 - val_loss: 0.4973 - val_acc: 0.7929\n",
            "\n",
            "Epoch 00006: val_acc improved from 0.79145 to 0.79287, saving model to /content/gdrive/My Drive/Ramjee-06-0.79.hdf5\n",
            "Epoch 7/40\n",
            "128/128 [==============================] - 8s 65ms/step - loss: 0.5316 - acc: 0.7839 - val_loss: 0.5181 - val_acc: 0.7868\n",
            "\n",
            "Epoch 00007: val_acc did not improve from 0.79287\n",
            "Epoch 8/40\n",
            "128/128 [==============================] - 8s 66ms/step - loss: 0.5188 - acc: 0.7888 - val_loss: 0.5126 - val_acc: 0.7888\n",
            "\n",
            "Epoch 00008: val_acc did not improve from 0.79287\n",
            "Epoch 9/40\n",
            "128/128 [==============================] - 8s 64ms/step - loss: 0.5264 - acc: 0.7853 - val_loss: 0.5019 - val_acc: 0.7920\n",
            "\n",
            "Epoch 00009: val_acc did not improve from 0.79287\n",
            "Epoch 10/40\n",
            "128/128 [==============================] - 8s 64ms/step - loss: 0.5330 - acc: 0.7814 - val_loss: 0.4976 - val_acc: 0.7926\n",
            "\n",
            "Epoch 00010: val_acc did not improve from 0.79287\n",
            "Epoch 11/40\n",
            "128/128 [==============================] - 8s 63ms/step - loss: 0.5232 - acc: 0.7862 - val_loss: 0.4894 - val_acc: 0.7936\n",
            "\n",
            "Epoch 00011: val_acc improved from 0.79287 to 0.79360, saving model to /content/gdrive/My Drive/Ramjee-11-0.79.hdf5\n",
            "Epoch 12/40\n",
            "128/128 [==============================] - 8s 60ms/step - loss: 0.5071 - acc: 0.7913 - val_loss: 0.5053 - val_acc: 0.7902\n",
            "\n",
            "Epoch 00012: val_acc did not improve from 0.79360\n",
            "Epoch 13/40\n",
            "128/128 [==============================] - 8s 64ms/step - loss: 0.5179 - acc: 0.7877 - val_loss: 0.4932 - val_acc: 0.7937\n",
            "\n",
            "Epoch 00013: val_acc improved from 0.79360 to 0.79370, saving model to /content/gdrive/My Drive/Ramjee-13-0.79.hdf5\n",
            "Epoch 14/40\n",
            "128/128 [==============================] - 8s 61ms/step - loss: 0.5276 - acc: 0.7822 - val_loss: 0.4962 - val_acc: 0.7929\n",
            "\n",
            "Epoch 00014: val_acc did not improve from 0.79370\n",
            "Epoch 15/40\n",
            "128/128 [==============================] - 8s 63ms/step - loss: 0.5048 - acc: 0.7910 - val_loss: 0.5009 - val_acc: 0.7924\n",
            "\n",
            "Epoch 00015: val_acc did not improve from 0.79370\n",
            "Epoch 16/40\n",
            "128/128 [==============================] - 8s 61ms/step - loss: 0.5141 - acc: 0.7896 - val_loss: 0.4931 - val_acc: 0.7929\n",
            "\n",
            "Epoch 00016: val_acc did not improve from 0.79370\n",
            "Epoch 17/40\n",
            "128/128 [==============================] - 8s 60ms/step - loss: 0.5242 - acc: 0.7838 - val_loss: 0.4918 - val_acc: 0.7942\n",
            "\n",
            "Epoch 00017: val_acc improved from 0.79370 to 0.79416, saving model to /content/gdrive/My Drive/Ramjee-17-0.79.hdf5\n",
            "Epoch 18/40\n",
            "128/128 [==============================] - 7s 58ms/step - loss: 0.5159 - acc: 0.7859 - val_loss: 0.4925 - val_acc: 0.7928\n",
            "\n",
            "Epoch 00018: val_acc did not improve from 0.79416\n",
            "Epoch 19/40\n",
            "128/128 [==============================] - 7s 57ms/step - loss: 0.5032 - acc: 0.7930 - val_loss: 0.4906 - val_acc: 0.7930\n",
            "\n",
            "Epoch 00019: val_acc did not improve from 0.79416\n",
            "Epoch 20/40\n",
            "128/128 [==============================] - 7s 58ms/step - loss: 0.5104 - acc: 0.7894 - val_loss: 0.4903 - val_acc: 0.7938\n",
            "\n",
            "Epoch 00020: val_acc did not improve from 0.79416\n",
            "Epoch 21/40\n",
            "128/128 [==============================] - 7s 56ms/step - loss: 0.5235 - acc: 0.7838 - val_loss: 0.4935 - val_acc: 0.7928\n",
            "\n",
            "Epoch 00021: val_acc did not improve from 0.79416\n",
            "Epoch 22/40\n",
            "128/128 [==============================] - 7s 57ms/step - loss: 0.5075 - acc: 0.7888 - val_loss: 0.4968 - val_acc: 0.7917\n",
            "\n",
            "Epoch 00022: val_acc did not improve from 0.79416\n",
            "Epoch 23/40\n",
            "128/128 [==============================] - 8s 61ms/step - loss: 0.4964 - acc: 0.7938 - val_loss: 0.4871 - val_acc: 0.7945\n",
            "\n",
            "Epoch 00023: val_acc improved from 0.79416 to 0.79450, saving model to /content/gdrive/My Drive/Ramjee-23-0.79.hdf5\n",
            "Epoch 24/40\n",
            "128/128 [==============================] - 7s 58ms/step - loss: 0.5095 - acc: 0.7883 - val_loss: 0.4895 - val_acc: 0.7943\n",
            "\n",
            "Epoch 00024: val_acc did not improve from 0.79450\n",
            "Epoch 25/40\n",
            "128/128 [==============================] - 7s 57ms/step - loss: 0.5166 - acc: 0.7847 - val_loss: 0.5007 - val_acc: 0.7923\n",
            "\n",
            "Epoch 00025: val_acc did not improve from 0.79450\n",
            "Epoch 26/40\n",
            "128/128 [==============================] - 7s 55ms/step - loss: 0.4940 - acc: 0.7937 - val_loss: 0.4926 - val_acc: 0.7943\n",
            "\n",
            "Epoch 00026: val_acc did not improve from 0.79450\n",
            "Epoch 27/40\n",
            "128/128 [==============================] - 7s 56ms/step - loss: 0.5035 - acc: 0.7908 - val_loss: 0.4952 - val_acc: 0.7926\n",
            "\n",
            "Epoch 00027: val_acc did not improve from 0.79450\n",
            "Epoch 28/40\n",
            "128/128 [==============================] - 7s 55ms/step - loss: 0.5186 - acc: 0.7838 - val_loss: 0.4894 - val_acc: 0.7936\n",
            "\n",
            "Epoch 00028: val_acc did not improve from 0.79450\n",
            "Epoch 29/40\n",
            "128/128 [==============================] - 7s 54ms/step - loss: 0.5102 - acc: 0.7884 - val_loss: 0.4971 - val_acc: 0.7921\n",
            "\n",
            "Epoch 00029: val_acc did not improve from 0.79450\n",
            "Epoch 30/40\n",
            "128/128 [==============================] - 7s 54ms/step - loss: 0.4937 - acc: 0.7940 - val_loss: 0.4921 - val_acc: 0.7928\n",
            "\n",
            "Epoch 00030: val_acc did not improve from 0.79450\n",
            "Epoch 31/40\n",
            "128/128 [==============================] - 7s 54ms/step - loss: 0.5025 - acc: 0.7906 - val_loss: 0.4906 - val_acc: 0.7945\n",
            "\n",
            "Epoch 00031: val_acc did not improve from 0.79450\n",
            "Epoch 32/40\n",
            "128/128 [==============================] - 7s 54ms/step - loss: 0.5162 - acc: 0.7854 - val_loss: 0.4877 - val_acc: 0.7938\n",
            "\n",
            "Epoch 00032: val_acc did not improve from 0.79450\n",
            "Epoch 33/40\n",
            "128/128 [==============================] - 7s 54ms/step - loss: 0.5029 - acc: 0.7909 - val_loss: 0.4908 - val_acc: 0.7939\n",
            "\n",
            "Epoch 00033: val_acc did not improve from 0.79450\n",
            "Epoch 34/40\n",
            "128/128 [==============================] - 7s 55ms/step - loss: 0.4969 - acc: 0.7924 - val_loss: 0.4861 - val_acc: 0.7943\n",
            "\n",
            "Epoch 00034: val_acc did not improve from 0.79450\n",
            "Epoch 35/40\n",
            "128/128 [==============================] - 7s 55ms/step - loss: 0.5042 - acc: 0.7896 - val_loss: 0.4841 - val_acc: 0.7948\n",
            "\n",
            "Epoch 00035: val_acc improved from 0.79450 to 0.79479, saving model to /content/gdrive/My Drive/Ramjee-35-0.79.hdf5\n",
            "Epoch 36/40\n",
            "128/128 [==============================] - 7s 55ms/step - loss: 0.5113 - acc: 0.7857 - val_loss: 0.4915 - val_acc: 0.7933\n",
            "\n",
            "Epoch 00036: val_acc did not improve from 0.79479\n",
            "Epoch 37/40\n",
            "128/128 [==============================] - 7s 54ms/step - loss: 0.4913 - acc: 0.7934 - val_loss: 0.4889 - val_acc: 0.7949\n",
            "\n",
            "Epoch 00037: val_acc improved from 0.79479 to 0.79486, saving model to /content/gdrive/My Drive/Ramjee-37-0.79.hdf5\n",
            "Epoch 38/40\n",
            "128/128 [==============================] - 7s 55ms/step - loss: 0.4945 - acc: 0.7921 - val_loss: 0.4911 - val_acc: 0.7933\n",
            "\n",
            "Epoch 00038: val_acc did not improve from 0.79486\n",
            "Epoch 39/40\n",
            "128/128 [==============================] - 7s 54ms/step - loss: 0.5147 - acc: 0.7862 - val_loss: 0.4900 - val_acc: 0.7928\n",
            "\n",
            "Epoch 00039: val_acc did not improve from 0.79486\n",
            "Epoch 40/40\n",
            "128/128 [==============================] - 7s 54ms/step - loss: 0.5006 - acc: 0.7897 - val_loss: 0.4888 - val_acc: 0.7931\n",
            "\n",
            "Epoch 00040: val_acc did not improve from 0.79486\n"
          ],
          "name": "stdout"
        },
        {
          "output_type": "execute_result",
          "data": {
            "text/plain": [
              "<keras.callbacks.History at 0x7f94b981e278>"
            ]
          },
          "metadata": {
            "tags": []
          },
          "execution_count": 66
        }
      ]
    },
    {
      "cell_type": "code",
      "metadata": {
        "id": "ifXnv7q11_gj",
        "colab_type": "code",
        "colab": {}
      },
      "source": [
        "#loading of weights from the drive for the epoch with best accuracy\n",
        "model.load_weights('/content/gdrive/My Drive/Ramjee-23-0.79.hdf5')"
      ],
      "execution_count": 0,
      "outputs": []
    },
    {
      "cell_type": "code",
      "metadata": {
        "id": "AtsH-lLk-eLb",
        "colab_type": "code",
        "colab": {}
      },
      "source": [
        "#run the evaluation for the predictions\n",
        "score = model.evaluate_generator(test_generator,steps=600)"
      ],
      "execution_count": 0,
      "outputs": []
    },
    {
      "cell_type": "code",
      "metadata": {
        "id": "mkX8JMv79q9r",
        "colab_type": "code",
        "outputId": "80d2ccda-48e2-43f7-fea5-350b10d464f3",
        "colab": {
          "base_uri": "https://localhost:8080/",
          "height": 34
        }
      },
      "source": [
        "print(score)"
      ],
      "execution_count": 71,
      "outputs": [
        {
          "output_type": "stream",
          "text": [
            "[0.4875726602098059, 0.7943985476741738]\n"
          ],
          "name": "stdout"
        }
      ]
    },
    {
      "cell_type": "code",
      "metadata": {
        "id": "2zRbMHm5eGf-",
        "colab_type": "code",
        "colab": {}
      },
      "source": [
        "predicted_classes = model.predict_classes(X_test)\n",
        "correct = np.nonzero(predicted_classes==y_test)\n",
        "incorrect = np.nonzero(predicted_classes!=y_test)\n",
        "arincorr = incorrect[0][0:25]"
      ],
      "execution_count": 0,
      "outputs": []
    },
    {
      "cell_type": "code",
      "metadata": {
        "id": "qqGXxLHmeSev",
        "colab_type": "code",
        "colab": {
          "base_uri": "https://localhost:8080/",
          "height": 269
        },
        "outputId": "95633330-0fbb-4a77-dd15-7e0da34d23f2"
      },
      "source": [
        "import matplotlib.pyplot as plt\n",
        "\n",
        "plt.figure(0)\n",
        "for i in range(5):\n",
        "    for j in range(5):\n",
        "        plt.subplot2grid((5,5), (i,j))\n",
        "plt.show()"
      ],
      "execution_count": 73,
      "outputs": [
        {
          "output_type": "display_data",
          "data": {
            "image/png": "[encoded data removed]",
            "text/plain": [
              "<Figure size 432x288 with 25 Axes>"
            ]
          },
          "metadata": {
            "tags": []
          }
        }
      ]
    },
    {
      "cell_type": "code",
      "metadata": {
        "id": "3RxoCC73nOkU",
        "colab_type": "code",
        "colab": {
          "base_uri": "https://localhost:8080/",
          "height": 1151
        },
        "outputId": "e83df555-2b14-480b-fc38-d4a8dce6db75"
      },
      "source": [
        "import matplotlib.pyplot as plt\n",
        "import numpy as np\n",
        "\n",
        "#plt.figure(0)\n",
        "plt.figure(figsize = (20,20)) \n",
        "plots = []\n",
        "count = 0\n",
        "for i in range(5):\n",
        "    for j in range(5):\n",
        "        ax = plt.subplot2grid((5,5), (i,j))\n",
        "        plt.imshow(X_test[arincorr[count]].reshape(28,28),cmap='gray',interpolation='none')\n",
        "        plt.title(\"Predicted {}, Class {}\".format(predicted_classes[arincorr[count]], y_test[arincorr[count]]))\n",
        "        count = count+1\n",
        "plt.show()"
      ],
      "execution_count": 74,
      "outputs": [
        {
          "output_type": "display_data",
          "data": {
            "image/png": "[encoded data removed]",
            "text/plain": [
              "<Figure size 1440x1440 with 25 Axes>"
            ]
          },
          "metadata": {
            "tags": []
          }
        }
      ]
    },
    {
      "cell_type": "code",
      "metadata": {
        "id": "OCWoJkwE9suh",
        "colab_type": "code",
        "colab": {}
      },
      "source": [
        "y_pred = model.predict(X_test)"
      ],
      "execution_count": 0,
      "outputs": []
    },
    {
      "cell_type": "code",
      "metadata": {
        "id": "Ym7iCFBm9uBs",
        "colab_type": "code",
        "outputId": "b606ce1f-73e0-43d6-e5da-a7d3e91b93f7",
        "colab": {
          "base_uri": "https://localhost:8080/",
          "height": 340
        }
      },
      "source": [
        "print(y_pred[:9])\n",
        "print(y_test[:9])"
      ],
      "execution_count": 76,
      "outputs": [
        {
          "output_type": "stream",
          "text": [
            "[[1.0000000e-01 1.0000000e-01 1.0000000e-01 1.0000000e-01 1.0000000e-01\n",
            "  1.0000000e-01 1.0000000e-01 1.0000000e-01 1.0000000e-01 1.0000000e-01]\n",
            " [1.2184790e-03 8.3836973e-02 9.1414613e-01 1.1406454e-04 1.1406454e-04\n",
            "  1.1406454e-04 1.1406454e-04 1.1406454e-04 1.1406454e-04 1.1406454e-04]\n",
            " [4.9207032e-05 9.9946386e-01 4.9207032e-05 4.9207032e-05 1.4249068e-04\n",
            "  4.9207032e-05 4.9207032e-05 4.9207032e-05 4.9207032e-05 4.9207032e-05]\n",
            " [9.9926454e-01 5.7113873e-05 5.7113873e-05 5.7113873e-05 5.7113873e-05\n",
            "  5.7113873e-05 2.7857083e-04 5.7113873e-05 5.7113873e-05 5.7113873e-05]\n",
            " [6.2202735e-06 1.6685296e-04 6.2202735e-06 6.2202735e-06 9.9978167e-01\n",
            "  6.2202735e-06 6.2202735e-06 6.2202735e-06 6.2202735e-06 8.0162235e-06]\n",
            " [3.6693829e-05 9.9963200e-01 3.6693829e-05 3.6693829e-05 7.4413751e-05\n",
            "  3.6693829e-05 3.6693829e-05 3.6693829e-05 3.6693829e-05 3.6693829e-05]\n",
            " [8.7773748e-05 7.0855359e-04 8.7773748e-05 8.7773748e-05 9.9858922e-01\n",
            "  8.7773748e-05 8.7773748e-05 8.7773748e-05 8.7773748e-05 8.7773748e-05]\n",
            " [1.2680282e-03 1.2680282e-03 1.2680282e-03 1.2680282e-03 1.9874637e-01\n",
            "  1.2680282e-03 1.2680282e-03 1.2680282e-03 1.2680282e-03 7.9110938e-01]\n",
            " [3.3156804e-03 3.3156804e-03 3.3156804e-03 3.3156804e-03 3.3156804e-03\n",
            "  9.5905900e-01 1.4415515e-02 3.3156804e-03 3.3156804e-03 3.3156804e-03]]\n",
            "[7 2 1 0 4 1 4 9 5]\n"
          ],
          "name": "stdout"
        }
      ]
    },
    {
      "cell_type": "code",
      "metadata": {
        "id": "CT--y98_dr2T",
        "colab_type": "code",
        "colab": {}
      },
      "source": [
        "layer_dict = dict([(layer.name, layer) for layer in model.layers])"
      ],
      "execution_count": 0,
      "outputs": []
    },
    {
      "cell_type": "code",
      "metadata": {
        "id": "2GY4Upv4dsUR",
        "colab_type": "code",
        "outputId": "fa65401a-f5d8-444f-e9ca-cc856cef7452",
        "colab": {
          "base_uri": "https://localhost:8080/",
          "height": 1003
        }
      },
      "source": [
        "import numpy as np\n",
        "from matplotlib import pyplot as plt\n",
        "from keras import backend as K\n",
        "%matplotlib inline\n",
        "# util function to convert a tensor into a valid image\n",
        "def deprocess_image(x):\n",
        "    # normalize tensor: center on 0., ensure std is 0.1\n",
        "    x -= x.mean()\n",
        "    x /= (x.std() + 1e-5)\n",
        "    x *= 0.1\n",
        "\n",
        "    # clip to [0, 1]\n",
        "    x += 0.5\n",
        "    x = np.clip(x, 0, 1)\n",
        "\n",
        "    # convert to RGB array\n",
        "    x *= 255\n",
        "    #x = x.transpose((1, 2, 0))\n",
        "    x = np.clip(x, 0, 255).astype('uint8')\n",
        "    return x\n",
        "\n",
        "def vis_img_in_filter(img = np.array(X_train[2]).reshape((1, 28, 28, 1)).astype(np.float64), \n",
        "                      layer_name = 'conv2d_14'):\n",
        "    layer_output = layer_dict[layer_name].output\n",
        "    img_ascs = list()\n",
        "    for filter_index in range(layer_output.shape[3]):\n",
        "        # build a loss function that maximizes the activation\n",
        "        # of the nth filter of the layer considered\n",
        "        loss = K.mean(layer_output[:, :, :, filter_index])\n",
        "\n",
        "        # compute the gradient of the input picture wrt this loss\n",
        "        grads = K.gradients(loss, model.input)[0]\n",
        "\n",
        "        # normalization trick: we normalize the gradient\n",
        "        grads /= (K.sqrt(K.mean(K.square(grads))) + 1e-5)\n",
        "\n",
        "        # this function returns the loss and grads given the input picture\n",
        "        iterate = K.function([model.input], [loss, grads])\n",
        "\n",
        "        # step size for gradient ascent\n",
        "        step = 5.\n",
        "\n",
        "        img_asc = np.array(img)\n",
        "        # run gradient ascent for 20 steps\n",
        "        for i in range(20):\n",
        "            loss_value, grads_value = iterate([img_asc])\n",
        "            img_asc += grads_value * step\n",
        "\n",
        "        img_asc = img_asc[0]\n",
        "        img_ascs.append(deprocess_image(img_asc).reshape((28, 28)))\n",
        "        \n",
        "    if layer_output.shape[3] >= 35:\n",
        "        plot_x, plot_y = 6, 6\n",
        "    elif layer_output.shape[3] >= 23:\n",
        "        plot_x, plot_y = 4, 6\n",
        "    elif layer_output.shape[3] >= 11:\n",
        "        plot_x, plot_y = 2, 6\n",
        "    else:\n",
        "        plot_x, plot_y = 1, 2\n",
        "    fig, ax = plt.subplots(plot_x, plot_y, figsize = (12, 12))\n",
        "    ax[0, 0].imshow(img.reshape((28, 28)), cmap = 'gray')\n",
        "    ax[0, 0].set_title('Input image')\n",
        "    fig.suptitle('Input image and %s filters' % (layer_name,))\n",
        "    fig.tight_layout(pad = 0.3, rect = [0, 0, 0.9, 0.9])\n",
        "    for (x, y) in [(i, j) for i in range(plot_x) for j in range(plot_y)]:\n",
        "        if x == 0 and y == 0:\n",
        "            continue\n",
        "        ax[x, y].imshow(img_ascs[x * plot_y + y - 1], cmap = 'gray')\n",
        "        ax[x, y].set_title('filter %d' % (x * plot_y + y - 1))\n",
        "\n",
        "vis_img_in_filter()"
      ],
      "execution_count": 45,
      "outputs": [
        {
          "output_type": "error",
          "ename": "IndexError",
          "evalue": "ignored",
          "traceback": [
            "\u001b[0;31m---------------------------------------------------------------------------\u001b[0m",
            "\u001b[0;31mIndexError\u001b[0m                                Traceback (most recent call last)",
            "\u001b[0;32m<ipython-input-45-19229f66b51a>\u001b[0m in \u001b[0;36m<module>\u001b[0;34m()\u001b[0m\n\u001b[1;32m     69\u001b[0m         \u001b[0max\u001b[0m\u001b[0;34m[\u001b[0m\u001b[0mx\u001b[0m\u001b[0;34m,\u001b[0m \u001b[0my\u001b[0m\u001b[0;34m]\u001b[0m\u001b[0;34m.\u001b[0m\u001b[0mset_title\u001b[0m\u001b[0;34m(\u001b[0m\u001b[0;34m'filter %d'\u001b[0m \u001b[0;34m%\u001b[0m \u001b[0;34m(\u001b[0m\u001b[0mx\u001b[0m \u001b[0;34m*\u001b[0m \u001b[0mplot_y\u001b[0m \u001b[0;34m+\u001b[0m \u001b[0my\u001b[0m \u001b[0;34m-\u001b[0m \u001b[0;36m1\u001b[0m\u001b[0;34m)\u001b[0m\u001b[0;34m)\u001b[0m\u001b[0;34m\u001b[0m\u001b[0;34m\u001b[0m\u001b[0m\n\u001b[1;32m     70\u001b[0m \u001b[0;34m\u001b[0m\u001b[0m\n\u001b[0;32m---> 71\u001b[0;31m \u001b[0mvis_img_in_filter\u001b[0m\u001b[0;34m(\u001b[0m\u001b[0;34m)\u001b[0m\u001b[0;34m\u001b[0m\u001b[0;34m\u001b[0m\u001b[0m\n\u001b[0m",
            "\u001b[0;32m<ipython-input-45-19229f66b51a>\u001b[0m in \u001b[0;36mvis_img_in_filter\u001b[0;34m(img, layer_name)\u001b[0m\n\u001b[1;32m     59\u001b[0m         \u001b[0mplot_x\u001b[0m\u001b[0;34m,\u001b[0m \u001b[0mplot_y\u001b[0m \u001b[0;34m=\u001b[0m \u001b[0;36m1\u001b[0m\u001b[0;34m,\u001b[0m \u001b[0;36m2\u001b[0m\u001b[0;34m\u001b[0m\u001b[0;34m\u001b[0m\u001b[0m\n\u001b[1;32m     60\u001b[0m     \u001b[0mfig\u001b[0m\u001b[0;34m,\u001b[0m \u001b[0max\u001b[0m \u001b[0;34m=\u001b[0m \u001b[0mplt\u001b[0m\u001b[0;34m.\u001b[0m\u001b[0msubplots\u001b[0m\u001b[0;34m(\u001b[0m\u001b[0mplot_x\u001b[0m\u001b[0;34m,\u001b[0m \u001b[0mplot_y\u001b[0m\u001b[0;34m,\u001b[0m \u001b[0mfigsize\u001b[0m \u001b[0;34m=\u001b[0m \u001b[0;34m(\u001b[0m\u001b[0;36m12\u001b[0m\u001b[0;34m,\u001b[0m \u001b[0;36m12\u001b[0m\u001b[0;34m)\u001b[0m\u001b[0;34m)\u001b[0m\u001b[0;34m\u001b[0m\u001b[0;34m\u001b[0m\u001b[0m\n\u001b[0;32m---> 61\u001b[0;31m     \u001b[0max\u001b[0m\u001b[0;34m[\u001b[0m\u001b[0;36m0\u001b[0m\u001b[0;34m,\u001b[0m \u001b[0;36m0\u001b[0m\u001b[0;34m]\u001b[0m\u001b[0;34m.\u001b[0m\u001b[0mimshow\u001b[0m\u001b[0;34m(\u001b[0m\u001b[0mimg\u001b[0m\u001b[0;34m.\u001b[0m\u001b[0mreshape\u001b[0m\u001b[0;34m(\u001b[0m\u001b[0;34m(\u001b[0m\u001b[0;36m28\u001b[0m\u001b[0;34m,\u001b[0m \u001b[0;36m28\u001b[0m\u001b[0;34m)\u001b[0m\u001b[0;34m)\u001b[0m\u001b[0;34m,\u001b[0m \u001b[0mcmap\u001b[0m \u001b[0;34m=\u001b[0m \u001b[0;34m'gray'\u001b[0m\u001b[0;34m)\u001b[0m\u001b[0;34m\u001b[0m\u001b[0;34m\u001b[0m\u001b[0m\n\u001b[0m\u001b[1;32m     62\u001b[0m     \u001b[0max\u001b[0m\u001b[0;34m[\u001b[0m\u001b[0;36m0\u001b[0m\u001b[0;34m,\u001b[0m \u001b[0;36m0\u001b[0m\u001b[0;34m]\u001b[0m\u001b[0;34m.\u001b[0m\u001b[0mset_title\u001b[0m\u001b[0;34m(\u001b[0m\u001b[0;34m'Input image'\u001b[0m\u001b[0;34m)\u001b[0m\u001b[0;34m\u001b[0m\u001b[0;34m\u001b[0m\u001b[0m\n\u001b[1;32m     63\u001b[0m     \u001b[0mfig\u001b[0m\u001b[0;34m.\u001b[0m\u001b[0msuptitle\u001b[0m\u001b[0;34m(\u001b[0m\u001b[0;34m'Input image and %s filters'\u001b[0m \u001b[0;34m%\u001b[0m \u001b[0;34m(\u001b[0m\u001b[0mlayer_name\u001b[0m\u001b[0;34m,\u001b[0m\u001b[0;34m)\u001b[0m\u001b[0;34m)\u001b[0m\u001b[0;34m\u001b[0m\u001b[0;34m\u001b[0m\u001b[0m\n",
            "\u001b[0;31mIndexError\u001b[0m: too many indices for array"
          ]
        },
        {
          "output_type": "display_data",
          "data": {
            "image/png": "[encoded data removed]",
            "text/plain": [
              "<Figure size 864x864 with 2 Axes>"
            ]
          },
          "metadata": {
            "tags": []
          }
        }
      ]
    },
    {
      "cell_type": "code",
      "metadata": {
        "id": "9tvptcn8dxvp",
        "colab_type": "code",
        "colab": {}
      },
      "source": [
        ""
      ],
      "execution_count": 0,
      "outputs": []
    }
  ]
}