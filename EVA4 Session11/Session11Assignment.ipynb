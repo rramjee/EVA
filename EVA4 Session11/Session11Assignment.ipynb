{
  "nbformat": 4,
  "nbformat_minor": 0,
  "metadata": {
    "colab": {
      "name": "Session11Assignment.ipynb",
      "provenance": [],
      "collapsed_sections": []
    },
    "kernelspec": {
      "name": "python3",
      "display_name": "Python 3"
    },
    "accelerator": "GPU",
    "widgets": {
      "application/vnd.jupyter.widget-state+json": {
        "187469c694c2499fb6d6674d780dbf21": {
          "model_module": "@jupyter-widgets/controls",
          "model_name": "HBoxModel",
          "state": {
            "_view_name": "HBoxView",
            "_dom_classes": [],
            "_model_name": "HBoxModel",
            "_view_module": "@jupyter-widgets/controls",
            "_model_module_version": "1.5.0",
            "_view_count": null,
            "_view_module_version": "1.5.0",
            "box_style": "",
            "layout": "IPY_MODEL_1e346fbb6db0419d80602c1f0a1fc558",
            "_model_module": "@jupyter-widgets/controls",
            "children": [
              "IPY_MODEL_2d28ac45c1d04f338e15c883c93abe25",
              "IPY_MODEL_633a157253174ea3983249b5b7978ac8"
            ]
          }
        },
        "1e346fbb6db0419d80602c1f0a1fc558": {
          "model_module": "@jupyter-widgets/base",
          "model_name": "LayoutModel",
          "state": {
            "_view_name": "LayoutView",
            "grid_template_rows": null,
            "right": null,
            "justify_content": null,
            "_view_module": "@jupyter-widgets/base",
            "overflow": null,
            "_model_module_version": "1.2.0",
            "_view_count": null,
            "flex_flow": null,
            "width": null,
            "min_width": null,
            "border": null,
            "align_items": null,
            "bottom": null,
            "_model_module": "@jupyter-widgets/base",
            "top": null,
            "grid_column": null,
            "overflow_y": null,
            "overflow_x": null,
            "grid_auto_flow": null,
            "grid_area": null,
            "grid_template_columns": null,
            "flex": null,
            "_model_name": "LayoutModel",
            "justify_items": null,
            "grid_row": null,
            "max_height": null,
            "align_content": null,
            "visibility": null,
            "align_self": null,
            "height": null,
            "min_height": null,
            "padding": null,
            "grid_auto_rows": null,
            "grid_gap": null,
            "max_width": null,
            "order": null,
            "_view_module_version": "1.2.0",
            "grid_template_areas": null,
            "object_position": null,
            "object_fit": null,
            "grid_auto_columns": null,
            "margin": null,
            "display": null,
            "left": null
          }
        },
        "2d28ac45c1d04f338e15c883c93abe25": {
          "model_module": "@jupyter-widgets/controls",
          "model_name": "FloatProgressModel",
          "state": {
            "_view_name": "ProgressView",
            "style": "IPY_MODEL_323b49eb316d497497c7e321f7e82a52",
            "_dom_classes": [],
            "description": "100%",
            "_model_name": "FloatProgressModel",
            "bar_style": "success",
            "max": 98,
            "_view_module": "@jupyter-widgets/controls",
            "_model_module_version": "1.5.0",
            "value": 98,
            "_view_count": null,
            "_view_module_version": "1.5.0",
            "orientation": "horizontal",
            "min": 0,
            "description_tooltip": null,
            "_model_module": "@jupyter-widgets/controls",
            "layout": "IPY_MODEL_8a3b2d8d242d4277b3c41a57ac3ba480"
          }
        },
        "633a157253174ea3983249b5b7978ac8": {
          "model_module": "@jupyter-widgets/controls",
          "model_name": "HTMLModel",
          "state": {
            "_view_name": "HTMLView",
            "style": "IPY_MODEL_4d4aba2da300492aa34b61745da4c572",
            "_dom_classes": [],
            "description": "",
            "_model_name": "HTMLModel",
            "placeholder": "​",
            "_view_module": "@jupyter-widgets/controls",
            "_model_module_version": "1.5.0",
            "value": " 98/98 [04:52&lt;00:00,  2.98s/it]",
            "_view_count": null,
            "_view_module_version": "1.5.0",
            "description_tooltip": null,
            "_model_module": "@jupyter-widgets/controls",
            "layout": "IPY_MODEL_dd46f84baac742c6bab2b0292ae23536"
          }
        },
        "323b49eb316d497497c7e321f7e82a52": {
          "model_module": "@jupyter-widgets/controls",
          "model_name": "ProgressStyleModel",
          "state": {
            "_view_name": "StyleView",
            "_model_name": "ProgressStyleModel",
            "description_width": "initial",
            "_view_module": "@jupyter-widgets/base",
            "_model_module_version": "1.5.0",
            "_view_count": null,
            "_view_module_version": "1.2.0",
            "bar_color": null,
            "_model_module": "@jupyter-widgets/controls"
          }
        },
        "8a3b2d8d242d4277b3c41a57ac3ba480": {
          "model_module": "@jupyter-widgets/base",
          "model_name": "LayoutModel",
          "state": {
            "_view_name": "LayoutView",
            "grid_template_rows": null,
            "right": null,
            "justify_content": null,
            "_view_module": "@jupyter-widgets/base",
            "overflow": null,
            "_model_module_version": "1.2.0",
            "_view_count": null,
            "flex_flow": null,
            "width": null,
            "min_width": null,
            "border": null,
            "align_items": null,
            "bottom": null,
            "_model_module": "@jupyter-widgets/base",
            "top": null,
            "grid_column": null,
            "overflow_y": null,
            "overflow_x": null,
            "grid_auto_flow": null,
            "grid_area": null,
            "grid_template_columns": null,
            "flex": null,
            "_model_name": "LayoutModel",
            "justify_items": null,
            "grid_row": null,
            "max_height": null,
            "align_content": null,
            "visibility": null,
            "align_self": null,
            "height": null,
            "min_height": null,
            "padding": null,
            "grid_auto_rows": null,
            "grid_gap": null,
            "max_width": null,
            "order": null,
            "_view_module_version": "1.2.0",
            "grid_template_areas": null,
            "object_position": null,
            "object_fit": null,
            "grid_auto_columns": null,
            "margin": null,
            "display": null,
            "left": null
          }
        },
        "4d4aba2da300492aa34b61745da4c572": {
          "model_module": "@jupyter-widgets/controls",
          "model_name": "DescriptionStyleModel",
          "state": {
            "_view_name": "StyleView",
            "_model_name": "DescriptionStyleModel",
            "description_width": "",
            "_view_module": "@jupyter-widgets/base",
            "_model_module_version": "1.5.0",
            "_view_count": null,
            "_view_module_version": "1.2.0",
            "_model_module": "@jupyter-widgets/controls"
          }
        },
        "dd46f84baac742c6bab2b0292ae23536": {
          "model_module": "@jupyter-widgets/base",
          "model_name": "LayoutModel",
          "state": {
            "_view_name": "LayoutView",
            "grid_template_rows": null,
            "right": null,
            "justify_content": null,
            "_view_module": "@jupyter-widgets/base",
            "overflow": null,
            "_model_module_version": "1.2.0",
            "_view_count": null,
            "flex_flow": null,
            "width": null,
            "min_width": null,
            "border": null,
            "align_items": null,
            "bottom": null,
            "_model_module": "@jupyter-widgets/base",
            "top": null,
            "grid_column": null,
            "overflow_y": null,
            "overflow_x": null,
            "grid_auto_flow": null,
            "grid_area": null,
            "grid_template_columns": null,
            "flex": null,
            "_model_name": "LayoutModel",
            "justify_items": null,
            "grid_row": null,
            "max_height": null,
            "align_content": null,
            "visibility": null,
            "align_self": null,
            "height": null,
            "min_height": null,
            "padding": null,
            "grid_auto_rows": null,
            "grid_gap": null,
            "max_width": null,
            "order": null,
            "_view_module_version": "1.2.0",
            "grid_template_areas": null,
            "object_position": null,
            "object_fit": null,
            "grid_auto_columns": null,
            "margin": null,
            "display": null,
            "left": null
          }
        }
      }
    }
  },
  "cells": [
    {
      "cell_type": "code",
      "metadata": {
        "id": "3fhpqKb_b0q9",
        "colab_type": "code",
        "outputId": "f959ec97-4f6d-496d-84bd-0ef6ccc63608",
        "colab": {
          "base_uri": "https://localhost:8080/",
          "height": 34
        }
      },
      "source": [
        "# mount gdrive and unzip data\n",
        "from google.colab import drive\n",
        "drive.mount('/content/gdrive')"
      ],
      "execution_count": 47,
      "outputs": [
        {
          "output_type": "stream",
          "text": [
            "Drive already mounted at /content/gdrive; to attempt to forcibly remount, call drive.mount(\"/content/gdrive\", force_remount=True).\n"
          ],
          "name": "stdout"
        }
      ]
    },
    {
      "cell_type": "code",
      "metadata": {
        "id": "7XD87mdvcKgN",
        "colab_type": "code",
        "colab": {}
      },
      "source": [
        "import sys\n",
        "workingdir = '/content/gdrive/My Drive/Colab Notebooks/EVA4/Session11'\n",
        "sys.path.append(workingdir)"
      ],
      "execution_count": 0,
      "outputs": []
    },
    {
      "cell_type": "code",
      "metadata": {
        "id": "9Wpp3X9knGiL",
        "colab_type": "code",
        "colab": {}
      },
      "source": [
        "%matplotlib inline\n",
        "import torch\n",
        "import torchvision\n",
        "import numpy as np\n",
        "from utils import datapreparation\n",
        "from utils import display\n",
        "from model import dnn\n",
        "from model import resnet\n",
        "from utils import training\n",
        "from utils import evaluate\n",
        "from utils import lrfinder\n",
        "from utils import lr_rangetest\n",
        "from utils import onecyclelr\n",
        "from utils import gradcam \n",
        "from utils import gradvisualize"
      ],
      "execution_count": 0,
      "outputs": []
    },
    {
      "cell_type": "markdown",
      "metadata": {
        "id": "inDNWDIjdcWg",
        "colab_type": "text"
      },
      "source": [
        "# DRAWING GRAPH"
      ]
    },
    {
      "cell_type": "code",
      "metadata": {
        "id": "yUuBnueadUQI",
        "colab_type": "code",
        "colab": {}
      },
      "source": [
        "from utils import graph"
      ],
      "execution_count": 0,
      "outputs": []
    },
    {
      "cell_type": "code",
      "metadata": {
        "id": "9Pd6elMucyTs",
        "colab_type": "code",
        "outputId": "694a8c24-1e5f-450a-8262-f8645ed2b049",
        "colab": {
          "base_uri": "https://localhost:8080/",
          "height": 70
        }
      },
      "source": [
        "classes, trainloader, testloader = datapreparation.load(albumentations=True)"
      ],
      "execution_count": 51,
      "outputs": [
        {
          "output_type": "stream",
          "text": [
            "Files already downloaded and verified\n",
            "Files already downloaded and verified\n",
            "CUDA Available? True\n"
          ],
          "name": "stdout"
        }
      ]
    },
    {
      "cell_type": "code",
      "metadata": {
        "id": "5qBvycordnW_",
        "colab_type": "code",
        "outputId": "1c2cde13-c539-4e65-fb84-a42fb3111090",
        "colab": {
          "base_uri": "https://localhost:8080/",
          "height": 148
        }
      },
      "source": [
        "display.show_random_images(trainloader, classes, 5)"
      ],
      "execution_count": 52,
      "outputs": [
        {
          "output_type": "stream",
          "text": [
            "shape: torch.Size([512, 3, 32, 32])\n"
          ],
          "name": "stdout"
        },
        {
          "output_type": "display_data",
          "data": {
            "image/png": "[encoded data removed]",
            "text/plain": [
              "<Figure size 360x360 with 1 Axes>"
            ]
          },
          "metadata": {
            "tags": [],
            "needs_background": "light"
          }
        },
        {
          "output_type": "stream",
          "text": [
            "  cat truck truck   cat   cat\n"
          ],
          "name": "stdout"
        }
      ]
    },
    {
      "cell_type": "code",
      "metadata": {
        "id": "lvcv4Ewndpm-",
        "colab_type": "code",
        "outputId": "b6934659-9a9c-4140-ce93-37af4849cbe1",
        "colab": {
          "base_uri": "https://localhost:8080/",
          "height": 818
        }
      },
      "source": [
        "!pip install torchsummary\n",
        "from torchsummary import summary\n",
        "use_cuda = torch.cuda.is_available()\n",
        "device = torch.device(\"cuda\" if use_cuda else \"cpu\")\n",
        "print(device)\n",
        "net = resnet.CustomResNet11()\n",
        "model = net.to(device)\n",
        "summary(model, input_size=(3, 32, 32))"
      ],
      "execution_count": 53,
      "outputs": [
        {
          "output_type": "stream",
          "text": [
            "Requirement already satisfied: torchsummary in /usr/local/lib/python3.6/dist-packages (1.5.1)\n",
            "cuda\n",
            "----------------------------------------------------------------\n",
            "        Layer (type)               Output Shape         Param #\n",
            "================================================================\n",
            "            Conv2d-1           [-1, 64, 32, 32]           1,728\n",
            "       BatchNorm2d-2           [-1, 64, 32, 32]             128\n",
            "              ReLU-3           [-1, 64, 32, 32]               0\n",
            "            Conv2d-4          [-1, 128, 32, 32]          73,728\n",
            "         MaxPool2d-5          [-1, 128, 16, 16]               0\n",
            "       BatchNorm2d-6          [-1, 128, 16, 16]             256\n",
            "              ReLU-7          [-1, 128, 16, 16]               0\n",
            "            Conv2d-8          [-1, 128, 16, 16]         147,456\n",
            "       BatchNorm2d-9          [-1, 128, 16, 16]             256\n",
            "           Conv2d-10          [-1, 128, 16, 16]         147,456\n",
            "      BatchNorm2d-11          [-1, 128, 16, 16]             256\n",
            "CustomResnetBlock-12          [-1, 128, 16, 16]               0\n",
            "           Conv2d-13          [-1, 256, 16, 16]         294,912\n",
            "        MaxPool2d-14            [-1, 256, 8, 8]               0\n",
            "      BatchNorm2d-15            [-1, 256, 8, 8]             512\n",
            "             ReLU-16            [-1, 256, 8, 8]               0\n",
            "           Conv2d-17            [-1, 512, 8, 8]       1,179,648\n",
            "        MaxPool2d-18            [-1, 512, 4, 4]               0\n",
            "      BatchNorm2d-19            [-1, 512, 4, 4]           1,024\n",
            "             ReLU-20            [-1, 512, 4, 4]               0\n",
            "           Conv2d-21            [-1, 512, 4, 4]       2,359,296\n",
            "      BatchNorm2d-22            [-1, 512, 4, 4]           1,024\n",
            "           Conv2d-23            [-1, 512, 4, 4]       2,359,296\n",
            "      BatchNorm2d-24            [-1, 512, 4, 4]           1,024\n",
            "CustomResnetBlock-25            [-1, 512, 4, 4]               0\n",
            "        MaxPool2d-26            [-1, 512, 1, 1]               0\n",
            "           Linear-27                   [-1, 10]           5,130\n",
            "================================================================\n",
            "Total params: 6,573,130\n",
            "Trainable params: 6,573,130\n",
            "Non-trainable params: 0\n",
            "----------------------------------------------------------------\n",
            "Input size (MB): 0.01\n",
            "Forward/backward pass size (MB): 6.13\n",
            "Params size (MB): 25.07\n",
            "Estimated Total Size (MB): 31.22\n",
            "----------------------------------------------------------------\n"
          ],
          "name": "stdout"
        },
        {
          "output_type": "stream",
          "text": [
            "/content/gdrive/My Drive/Colab Notebooks/EVA4/Session11/model/resnet.py:163: UserWarning: Implicit dimension choice for softmax has been deprecated. Change the call to include dim=X as an argument.\n",
            "  out = F.softmax(out)\n"
          ],
          "name": "stderr"
        }
      ]
    },
    {
      "cell_type": "markdown",
      "metadata": {
        "id": "o-tkB0JogFgz",
        "colab_type": "text"
      },
      "source": [
        "# Finding best lr and using it for maximum learning rate"
      ]
    },
    {
      "cell_type": "code",
      "metadata": {
        "id": "5KYzIHkTd3_1",
        "colab_type": "code",
        "outputId": "ec924296-dd64-4613-e849-8f8b21ecb407",
        "colab": {
          "base_uri": "https://localhost:8080/",
          "height": 667,
          "referenced_widgets": [
            "187469c694c2499fb6d6674d780dbf21",
            "1e346fbb6db0419d80602c1f0a1fc558",
            "2d28ac45c1d04f338e15c883c93abe25",
            "633a157253174ea3983249b5b7978ac8",
            "323b49eb316d497497c7e321f7e82a52",
            "8a3b2d8d242d4277b3c41a57ac3ba480",
            "4d4aba2da300492aa34b61745da4c572",
            "dd46f84baac742c6bab2b0292ae23536"
          ]
        }
      },
      "source": [
        "import torch.nn as nn\n",
        "import torch.optim as optim\n",
        "from torch.optim.lr_scheduler import StepLR\n",
        "\n",
        "criterion = nn.CrossEntropyLoss()\n",
        "optimizer = optim.SGD(model.parameters(), lr=1e-3, momentum=0.9)\n",
        "lr = lrfinder.LRFinder(model, optimizer, criterion, device=\"cuda\")\n",
        "lr.range_test(trainloader, end_lr=0.20, num_iter=len(trainloader), step_mode=\"exp\")\n",
        "lr.plot(log_lr=True)\n",
        "lr.plot(log_lr=False)\n",
        "lr.reset()"
      ],
      "execution_count": 54,
      "outputs": [
        {
          "output_type": "display_data",
          "data": {
            "application/vnd.jupyter.widget-view+json": {
              "model_id": "187469c694c2499fb6d6674d780dbf21",
              "version_minor": 0,
              "version_major": 2
            },
            "text/plain": [
              "HBox(children=(FloatProgress(value=0.0, max=98.0), HTML(value='')))"
            ]
          },
          "metadata": {
            "tags": []
          }
        },
        {
          "output_type": "stream",
          "text": [
            "/content/gdrive/My Drive/Colab Notebooks/EVA4/Session11/model/resnet.py:163: UserWarning: Implicit dimension choice for softmax has been deprecated. Change the call to include dim=X as an argument.\n",
            "  out = F.softmax(out)\n"
          ],
          "name": "stderr"
        },
        {
          "output_type": "stream",
          "text": [
            "\n",
            "Learning rate search finished. See the graph with {finder_name}.plot()\n"
          ],
          "name": "stdout"
        },
        {
          "output_type": "display_data",
          "data": {
            "image/png": "[encoded data removed]",
            "text/plain": [
              "<Figure size 432x288 with 1 Axes>"
            ]
          },
          "metadata": {
            "tags": [],
            "needs_background": "light"
          }
        },
        {
          "output_type": "display_data",
          "data": {
            "image/png": "[encoded data removed]",
            "text/plain": [
              "<Figure size 432x288 with 1 Axes>"
            ]
          },
          "metadata": {
            "tags": [],
            "needs_background": "light"
          }
        }
      ]
    },
    {
      "cell_type": "markdown",
      "metadata": {
        "id": "Vgf3SEBInSwe",
        "colab_type": "text"
      },
      "source": [
        "# At lr = 0.025, we can see the loss is getting decreases rapidly..\n"
      ]
    },
    {
      "cell_type": "code",
      "metadata": {
        "id": "YAKzN4ec7fmM",
        "colab_type": "code",
        "colab": {}
      },
      "source": [
        "max_lr = 0.025"
      ],
      "execution_count": 0,
      "outputs": []
    },
    {
      "cell_type": "markdown",
      "metadata": {
        "id": "ZOVidDAuBw5d",
        "colab_type": "text"
      },
      "source": [
        "# When min_lr = max_lr / 5, maximum accuracy is 87.41\n",
        "# When min_lr = max_lr / 6, maximum accuracy is 87.6\n",
        "# When min_lr = max_lr / 7, maximum accuracy is 87.7\n",
        "# When min_lr = max_lr / 8, maximum accuracy is 88.1\n",
        "# When min_lr = max_lr / 9, maximum accuracy is 87.6\n",
        "# When min_lr = max_lr / 10, maximum accuracy is 87.6"
      ]
    },
    {
      "cell_type": "code",
      "metadata": {
        "id": "mtb3ttz47hkr",
        "colab_type": "code",
        "outputId": "0a5919bb-6618-4e59-b587-b0687c75adc9",
        "colab": {
          "base_uri": "https://localhost:8080/",
          "height": 34
        }
      },
      "source": [
        "min_lr = max_lr / 10\n",
        "print(min_lr)"
      ],
      "execution_count": 56,
      "outputs": [
        {
          "output_type": "stream",
          "text": [
            "0.0025\n"
          ],
          "name": "stdout"
        }
      ]
    },
    {
      "cell_type": "code",
      "metadata": {
        "id": "_CFdR3VsoN7R",
        "colab_type": "code",
        "outputId": "dfd9e6bd-b227-43b3-d2bc-ad1ad2f6b942",
        "colab": {
          "base_uri": "https://localhost:8080/",
          "height": 158
        }
      },
      "source": [
        "initial_lr = 0.001\n",
        "\n",
        "\n",
        "EPOCHS = 24\n",
        "steps_per_epoch = len(trainloader)\n",
        "num_steps = steps_per_epoch * EPOCHS\n",
        "peak_lr_epoch = 5 \n",
        "pct_start = float (peak_lr_epoch/EPOCHS)\n",
        "div_factor = float (max_lr/initial_lr)\n",
        "final_div_factor = float (initial_lr/min_lr)\n",
        "\n",
        "print(\"maxlr: \", max_lr)\n",
        "print(\"min_lr: \", min_lr)\n",
        "print(\"initial_lr: \", initial_lr)\n",
        "print(\"epochs: \", EPOCHS)\n",
        "print(\"steps_per_epoch: \", steps_per_epoch)\n",
        "print(\"pct_start: \", pct_start)\n",
        "print(\"div_factor: \", div_factor)\n",
        "print(\"final_div_factor: \", final_div_factor)\n",
        "\n",
        "optimizer = optim.SGD(model.parameters(), lr=max_lr, momentum=0.9)\n",
        "scheduler = torch.optim.lr_scheduler.OneCycleLR(optimizer, \n",
        "                                                max_lr, \n",
        "                                                epochs=EPOCHS, \n",
        "                                                steps_per_epoch=steps_per_epoch, \n",
        "                                                pct_start=pct_start, \n",
        "                                                anneal_strategy='cos', \n",
        "                                                cycle_momentum=True, \n",
        "                                                base_momentum=0.85, \n",
        "                                                max_momentum=0.95, \n",
        "                                                div_factor=div_factor, \n",
        "                                                final_div_factor=final_div_factor, \n",
        "                                                last_epoch=-1)"
      ],
      "execution_count": 57,
      "outputs": [
        {
          "output_type": "stream",
          "text": [
            "maxlr:  0.025\n",
            "min_lr:  0.0025\n",
            "initial_lr:  0.001\n",
            "epochs:  24\n",
            "steps_per_epoch:  98\n",
            "pct_start:  0.20833333333333334\n",
            "div_factor:  25.0\n",
            "final_div_factor:  0.4\n"
          ],
          "name": "stdout"
        }
      ]
    },
    {
      "cell_type": "code",
      "metadata": {
        "id": "JO-_QZEw41A2",
        "colab_type": "code",
        "outputId": "07ead599-7885-41ab-c9d5-3cb5b60a0c23",
        "colab": {
          "base_uri": "https://localhost:8080/",
          "height": 1000
        }
      },
      "source": [
        "misclassified_imgs = []\n",
        "correct_imgs = []\n",
        "lrs = []\n",
        "for epoch in range(EPOCHS):\n",
        "    print(\"EPOCH:\", epoch+1)\n",
        "    print(\"Starting Learning Rate:\", scheduler.get_lr())\n",
        "    lrs = training.train_model(model, device, trainloader, optimizer, scheduler, criterion, epoch)\n",
        "    misclassified_imgs, correct_imgs = training.test_model(model, device, criterion, testloader, epoch==EPOCHS-1)"
      ],
      "execution_count": 58,
      "outputs": [
        {
          "output_type": "stream",
          "text": [
            "/usr/local/lib/python3.6/dist-packages/torch/optim/lr_scheduler.py:1206: UserWarning: To get the last learning rate computed by the scheduler, please use `get_last_lr()`.\n",
            "  \"please use `get_last_lr()`.\", UserWarning)\n",
            "\r  0%|          | 0/98 [00:00<?, ?it/s]"
          ],
          "name": "stderr"
        },
        {
          "output_type": "stream",
          "text": [
            "EPOCH: 1\n",
            "Starting Learning Rate: [0.0010000000000000009]\n"
          ],
          "name": "stdout"
        },
        {
          "output_type": "stream",
          "text": [
            "/content/gdrive/My Drive/Colab Notebooks/EVA4/Session11/model/resnet.py:163: UserWarning: Implicit dimension choice for softmax has been deprecated. Change the call to include dim=X as an argument.\n",
            "  out = F.softmax(out)\n",
            "Loss=2.1421453952789307 Batch_id=97 Accuracy=22.65: 100%|██████████| 98/98 [00:32<00:00,  2.99it/s]\n",
            "  0%|          | 0/98 [00:00<?, ?it/s]"
          ],
          "name": "stderr"
        },
        {
          "output_type": "stream",
          "text": [
            "\n",
            "Test set: Average loss: 0.0043, Accuracy: 3436/10000 (34.36%)\n",
            "\n",
            "EPOCH: 2\n",
            "Starting Learning Rate: [0.0033008670573439515]\n"
          ],
          "name": "stdout"
        },
        {
          "output_type": "stream",
          "text": [
            "Loss=2.065505027770996 Batch_id=97 Accuracy=37.58: 100%|██████████| 98/98 [00:32<00:00,  2.98it/s]\n",
            "  0%|          | 0/98 [00:00<?, ?it/s]"
          ],
          "name": "stderr"
        },
        {
          "output_type": "stream",
          "text": [
            "\n",
            "Test set: Average loss: 0.0041, Accuracy: 3953/10000 (39.53%)\n",
            "\n",
            "EPOCH: 3\n",
            "Starting Learning Rate: [0.009321136693447377]\n"
          ],
          "name": "stdout"
        },
        {
          "output_type": "stream",
          "text": [
            "Loss=2.0286753177642822 Batch_id=97 Accuracy=45.14: 100%|██████████| 98/98 [00:32<00:00,  2.99it/s]\n",
            "  0%|          | 0/98 [00:00<?, ?it/s]"
          ],
          "name": "stderr"
        },
        {
          "output_type": "stream",
          "text": [
            "\n",
            "Test set: Average loss: 0.0040, Accuracy: 4630/10000 (46.30%)\n",
            "\n",
            "EPOCH: 4\n",
            "Starting Learning Rate: [0.016752168894637195]\n"
          ],
          "name": "stdout"
        },
        {
          "output_type": "stream",
          "text": [
            "Loss=1.8444831371307373 Batch_id=97 Accuracy=53.44: 100%|██████████| 98/98 [00:32<00:00,  2.97it/s]\n",
            "  0%|          | 0/98 [00:00<?, ?it/s]"
          ],
          "name": "stderr"
        },
        {
          "output_type": "stream",
          "text": [
            "\n",
            "Test set: Average loss: 0.0038, Accuracy: 5799/10000 (57.99%)\n",
            "\n",
            "EPOCH: 5\n",
            "Starting Learning Rate: [0.022744327461950115]\n"
          ],
          "name": "stdout"
        },
        {
          "output_type": "stream",
          "text": [
            "Loss=1.7659131288528442 Batch_id=97 Accuracy=66.74: 100%|██████████| 98/98 [00:32<00:00,  2.98it/s]\n",
            "  0%|          | 0/98 [00:00<?, ?it/s]"
          ],
          "name": "stderr"
        },
        {
          "output_type": "stream",
          "text": [
            "\n",
            "Test set: Average loss: 0.0036, Accuracy: 6464/10000 (64.64%)\n",
            "\n",
            "EPOCH: 6\n",
            "Starting Learning Rate: [0.024999983987364575]\n"
          ],
          "name": "stdout"
        },
        {
          "output_type": "stream",
          "text": [
            "Loss=1.7224394083023071 Batch_id=97 Accuracy=72.38: 100%|██████████| 98/98 [00:32<00:00,  3.00it/s]\n",
            "  0%|          | 0/98 [00:00<?, ?it/s]"
          ],
          "name": "stderr"
        },
        {
          "output_type": "stream",
          "text": [
            "\n",
            "Test set: Average loss: 0.0034, Accuracy: 7508/10000 (75.08%)\n",
            "\n",
            "EPOCH: 7\n",
            "Starting Learning Rate: [0.024843424674492617]\n"
          ],
          "name": "stdout"
        },
        {
          "output_type": "stream",
          "text": [
            "Loss=1.7512624263763428 Batch_id=97 Accuracy=75.45: 100%|██████████| 98/98 [00:32<00:00,  3.01it/s]\n",
            "  0%|          | 0/98 [00:00<?, ?it/s]"
          ],
          "name": "stderr"
        },
        {
          "output_type": "stream",
          "text": [
            "\n",
            "Test set: Average loss: 0.0034, Accuracy: 7498/10000 (74.98%)\n",
            "\n",
            "EPOCH: 8\n",
            "Starting Learning Rate: [0.024384265654900344]\n"
          ],
          "name": "stdout"
        },
        {
          "output_type": "stream",
          "text": [
            "Loss=1.6846987009048462 Batch_id=97 Accuracy=77.70: 100%|██████████| 98/98 [00:32<00:00,  2.99it/s]\n",
            "  0%|          | 0/98 [00:00<?, ?it/s]"
          ],
          "name": "stderr"
        },
        {
          "output_type": "stream",
          "text": [
            "\n",
            "Test set: Average loss: 0.0034, Accuracy: 7796/10000 (77.96%)\n",
            "\n",
            "EPOCH: 9\n",
            "Starting Learning Rate: [0.023635031589704005]\n"
          ],
          "name": "stdout"
        },
        {
          "output_type": "stream",
          "text": [
            "Loss=1.6747232675552368 Batch_id=97 Accuracy=79.60: 100%|██████████| 98/98 [00:32<00:00,  3.06it/s]\n",
            "  0%|          | 0/98 [00:00<?, ?it/s]"
          ],
          "name": "stderr"
        },
        {
          "output_type": "stream",
          "text": [
            "\n",
            "Test set: Average loss: 0.0034, Accuracy: 7567/10000 (75.67%)\n",
            "\n",
            "EPOCH: 10\n",
            "Starting Learning Rate: [0.022616159631094705]\n"
          ],
          "name": "stdout"
        },
        {
          "output_type": "stream",
          "text": [
            "Loss=1.6523867845535278 Batch_id=97 Accuracy=80.46: 100%|██████████| 98/98 [00:32<00:00,  3.03it/s]\n",
            "  0%|          | 0/98 [00:00<?, ?it/s]"
          ],
          "name": "stderr"
        },
        {
          "output_type": "stream",
          "text": [
            "\n",
            "Test set: Average loss: 0.0033, Accuracy: 8035/10000 (80.35%)\n",
            "\n",
            "EPOCH: 11\n",
            "Starting Learning Rate: [0.021355441950102343]\n"
          ],
          "name": "stdout"
        },
        {
          "output_type": "stream",
          "text": [
            "Loss=1.6438876390457153 Batch_id=97 Accuracy=82.31: 100%|██████████| 98/98 [00:32<00:00,  3.02it/s]\n",
            "  0%|          | 0/98 [00:00<?, ?it/s]"
          ],
          "name": "stderr"
        },
        {
          "output_type": "stream",
          "text": [
            "\n",
            "Test set: Average loss: 0.0033, Accuracy: 8009/10000 (80.09%)\n",
            "\n",
            "EPOCH: 12\n",
            "Starting Learning Rate: [0.019887267638618672]\n"
          ],
          "name": "stdout"
        },
        {
          "output_type": "stream",
          "text": [
            "Loss=1.6557035446166992 Batch_id=97 Accuracy=83.13: 100%|██████████| 98/98 [00:32<00:00,  3.03it/s]\n",
            "  0%|          | 0/98 [00:00<?, ?it/s]"
          ],
          "name": "stderr"
        },
        {
          "output_type": "stream",
          "text": [
            "\n",
            "Test set: Average loss: 0.0033, Accuracy: 8210/10000 (82.10%)\n",
            "\n",
            "EPOCH: 13\n",
            "Starting Learning Rate: [0.018251684664616182]\n"
          ],
          "name": "stdout"
        },
        {
          "output_type": "stream",
          "text": [
            "Loss=1.6248047351837158 Batch_id=97 Accuracy=84.24: 100%|██████████| 98/98 [00:32<00:00,  2.99it/s]\n",
            "  0%|          | 0/98 [00:00<?, ?it/s]"
          ],
          "name": "stderr"
        },
        {
          "output_type": "stream",
          "text": [
            "\n",
            "Test set: Average loss: 0.0033, Accuracy: 8194/10000 (81.94%)\n",
            "\n",
            "EPOCH: 14\n",
            "Starting Learning Rate: [0.016493307467979057]\n"
          ],
          "name": "stdout"
        },
        {
          "output_type": "stream",
          "text": [
            "Loss=1.6059468984603882 Batch_id=97 Accuracy=85.23: 100%|██████████| 98/98 [00:32<00:00,  3.04it/s]\n",
            "  0%|          | 0/98 [00:00<?, ?it/s]"
          ],
          "name": "stderr"
        },
        {
          "output_type": "stream",
          "text": [
            "\n",
            "Test set: Average loss: 0.0033, Accuracy: 8358/10000 (83.58%)\n",
            "\n",
            "EPOCH: 15\n",
            "Starting Learning Rate: [0.014660099994884311]\n"
          ],
          "name": "stdout"
        },
        {
          "output_type": "stream",
          "text": [
            "Loss=1.5802768468856812 Batch_id=97 Accuracy=85.99: 100%|██████████| 98/98 [00:32<00:00,  3.02it/s]\n",
            "  0%|          | 0/98 [00:00<?, ?it/s]"
          ],
          "name": "stderr"
        },
        {
          "output_type": "stream",
          "text": [
            "\n",
            "Test set: Average loss: 0.0033, Accuracy: 8279/10000 (82.79%)\n",
            "\n",
            "EPOCH: 16\n",
            "Starting Learning Rate: [0.01280206736638274]\n"
          ],
          "name": "stdout"
        },
        {
          "output_type": "stream",
          "text": [
            "Loss=1.5822889804840088 Batch_id=97 Accuracy=86.61: 100%|██████████| 98/98 [00:32<00:00,  3.00it/s]\n",
            "  0%|          | 0/98 [00:00<?, ?it/s]"
          ],
          "name": "stderr"
        },
        {
          "output_type": "stream",
          "text": [
            "\n",
            "Test set: Average loss: 0.0033, Accuracy: 8310/10000 (83.10%)\n",
            "\n",
            "EPOCH: 17\n",
            "Starting Learning Rate: [0.0109698918690503]\n"
          ],
          "name": "stdout"
        },
        {
          "output_type": "stream",
          "text": [
            "Loss=1.5568768978118896 Batch_id=97 Accuracy=87.47: 100%|██████████| 98/98 [00:32<00:00,  2.99it/s]\n",
            "  0%|          | 0/98 [00:00<?, ?it/s]"
          ],
          "name": "stderr"
        },
        {
          "output_type": "stream",
          "text": [
            "\n",
            "Test set: Average loss: 0.0032, Accuracy: 8567/10000 (85.67%)\n",
            "\n",
            "EPOCH: 18\n",
            "Starting Learning Rate: [0.009213550474329148]\n"
          ],
          "name": "stdout"
        },
        {
          "output_type": "stream",
          "text": [
            "Loss=1.5775384902954102 Batch_id=97 Accuracy=88.20: 100%|██████████| 98/98 [00:32<00:00,  3.03it/s]\n",
            "  0%|          | 0/98 [00:00<?, ?it/s]"
          ],
          "name": "stderr"
        },
        {
          "output_type": "stream",
          "text": [
            "\n",
            "Test set: Average loss: 0.0032, Accuracy: 8586/10000 (85.86%)\n",
            "\n",
            "EPOCH: 19\n",
            "Starting Learning Rate: [0.0075809515970269754]\n"
          ],
          "name": "stdout"
        },
        {
          "output_type": "stream",
          "text": [
            "Loss=1.583850622177124 Batch_id=97 Accuracy=88.90: 100%|██████████| 98/98 [00:32<00:00,  3.02it/s]\n",
            "  0%|          | 0/98 [00:00<?, ?it/s]"
          ],
          "name": "stderr"
        },
        {
          "output_type": "stream",
          "text": [
            "\n",
            "Test set: Average loss: 0.0032, Accuracy: 8594/10000 (85.94%)\n",
            "\n",
            "EPOCH: 20\n",
            "Starting Learning Rate: [0.0061166282786489475]\n"
          ],
          "name": "stdout"
        },
        {
          "output_type": "stream",
          "text": [
            "Loss=1.5636743307113647 Batch_id=97 Accuracy=89.39: 100%|██████████| 98/98 [00:32<00:00,  3.00it/s]\n",
            "  0%|          | 0/98 [00:00<?, ?it/s]"
          ],
          "name": "stderr"
        },
        {
          "output_type": "stream",
          "text": [
            "\n",
            "Test set: Average loss: 0.0032, Accuracy: 8697/10000 (86.97%)\n",
            "\n",
            "EPOCH: 21\n",
            "Starting Learning Rate: [0.004860523442114404]\n"
          ],
          "name": "stdout"
        },
        {
          "output_type": "stream",
          "text": [
            "Loss=1.552393913269043 Batch_id=97 Accuracy=90.12: 100%|██████████| 98/98 [00:32<00:00,  3.03it/s]\n",
            "  0%|          | 0/98 [00:00<?, ?it/s]"
          ],
          "name": "stderr"
        },
        {
          "output_type": "stream",
          "text": [
            "\n",
            "Test set: Average loss: 0.0032, Accuracy: 8708/10000 (87.08%)\n",
            "\n",
            "EPOCH: 22\n",
            "Starting Learning Rate: [0.003846900352943092]\n"
          ],
          "name": "stdout"
        },
        {
          "output_type": "stream",
          "text": [
            "Loss=1.5590310096740723 Batch_id=97 Accuracy=90.59: 100%|██████████| 98/98 [00:32<00:00,  3.01it/s]\n",
            "  0%|          | 0/98 [00:00<?, ?it/s]"
          ],
          "name": "stderr"
        },
        {
          "output_type": "stream",
          "text": [
            "\n",
            "Test set: Average loss: 0.0032, Accuracy: 8694/10000 (86.94%)\n",
            "\n",
            "EPOCH: 23\n",
            "Starting Learning Rate: [0.0031034080066894105]\n"
          ],
          "name": "stdout"
        },
        {
          "output_type": "stream",
          "text": [
            "Loss=1.559554100036621 Batch_id=97 Accuracy=90.97: 100%|██████████| 98/98 [00:32<00:00,  3.03it/s]\n",
            "  0%|          | 0/98 [00:00<?, ?it/s]"
          ],
          "name": "stderr"
        },
        {
          "output_type": "stream",
          "text": [
            "\n",
            "Test set: Average loss: 0.0032, Accuracy: 8711/10000 (87.11%)\n",
            "\n",
            "EPOCH: 24\n",
            "Starting Learning Rate: [0.002650326936419267]\n"
          ],
          "name": "stdout"
        },
        {
          "output_type": "stream",
          "text": [
            "Loss=1.5494260787963867 Batch_id=97 Accuracy=91.27: 100%|██████████| 98/98 [00:32<00:00,  3.03it/s]\n"
          ],
          "name": "stderr"
        },
        {
          "output_type": "stream",
          "text": [
            "\n",
            "Test set: Average loss: 0.0032, Accuracy: 8762/10000 (87.62%)\n",
            "\n"
          ],
          "name": "stdout"
        }
      ]
    },
    {
      "cell_type": "code",
      "metadata": {
        "id": "XgKoP2vX6BzM",
        "colab_type": "code",
        "colab": {}
      },
      "source": [
        "\n"
      ],
      "execution_count": 0,
      "outputs": []
    },
    {
      "cell_type": "code",
      "metadata": {
        "id": "B38YaY_gOvl1",
        "colab_type": "code",
        "colab": {}
      },
      "source": [
        ""
      ],
      "execution_count": 0,
      "outputs": []
    }
  ]
}