{
  "nbformat": 4,
  "nbformat_minor": 0,
  "metadata": {
    "colab": {
      "name": "Quiz 7 assignment.ipynb",
      "version": "0.3.2",
      "provenance": [],
      "collapsed_sections": []
    },
    "kernelspec": {
      "name": "python3",
      "display_name": "Python 3"
    },
    "accelerator": "GPU"
  },
  "cells": [
    {
      "cell_type": "markdown",
      "metadata": {
        "id": "aNyZv-Ec52ot",
        "colab_type": "text"
      },
      "source": [
        "# **Import Libraries and modules**"
      ]
    },
    {
      "cell_type": "code",
      "metadata": {
        "id": "3m3w1Cw49Zkt",
        "colab_type": "code",
        "colab": {
          "base_uri": "https://localhost:8080/",
          "height": 34
        },
        "outputId": "66b66a81-9c71-4442-aca2-f9ef079199df"
      },
      "source": [
        "# https://keras.io/\n",
        "!pip install -q keras\n",
        "import keras\n",
        "import datetime, time\n",
        "print(datetime.datetime.now())"
      ],
      "execution_count": 2,
      "outputs": [
        {
          "output_type": "stream",
          "text": [
            "2019-06-11 16:41:44.783619\n"
          ],
          "name": "stdout"
        }
      ]
    },
    {
      "cell_type": "code",
      "metadata": {
        "id": "Eso6UHE080D4",
        "colab_type": "code",
        "colab": {
          "base_uri": "https://localhost:8080/",
          "height": 34
        },
        "outputId": "5fd3e1ce-00a9-4dec-85f6-304ec2496a9d"
      },
      "source": [
        "import numpy as np\n",
        "\n",
        "from keras.models import Sequential\n",
        "from keras.layers import Dense, Dropout, Activation, Flatten, Add, Flatten,Dense, Dropout, Input, Lambda\n",
        "from keras.layers import Convolution2D, MaxPooling2D, Conv2D\n",
        "from keras.utils import np_utils\n",
        "\n",
        "from keras import backend as K\n",
        "\n",
        "import matplotlib.pyplot as plt\n",
        "import numpy as np\n",
        "% matplotlib inline\n",
        "np.random.seed(2019) \n",
        "\n",
        "from keras.layers.merge import concatenate\n",
        "\n",
        "from keras.models import Model\n",
        "\n",
        "# https://keras.io/\n",
        "!pip install -q keras\n",
        "import keras\n",
        "\n",
        "# this part will prevent tensorflow to allocate all the avaliable GPU Memory\n",
        "# backend\n",
        "import tensorflow as tf\n",
        "from keras import backend as k\n",
        "\n",
        "from keras.datasets import mnist\n",
        "print(datetime.datetime.now())"
      ],
      "execution_count": 13,
      "outputs": [
        {
          "output_type": "stream",
          "text": [
            "2019-06-11 16:47:43.884570\n"
          ],
          "name": "stdout"
        }
      ]
    },
    {
      "cell_type": "markdown",
      "metadata": {
        "id": "zByEi95J86RD",
        "colab_type": "text"
      },
      "source": [
        "### Load pre-shuffled MNIST data into train and test sets"
      ]
    },
    {
      "cell_type": "code",
      "metadata": {
        "id": "7eRM0QWN83PV",
        "colab_type": "code",
        "colab": {
          "base_uri": "https://localhost:8080/",
          "height": 68
        },
        "outputId": "da979a1a-584c-4ab1-ed8f-8432de35a88e"
      },
      "source": [
        "(X_train, y_train), (X_test, y_test) = mnist.load_data()\n",
        "print(datetime.datetime.now())"
      ],
      "execution_count": 4,
      "outputs": [
        {
          "output_type": "stream",
          "text": [
            "Downloading data from https://s3.amazonaws.com/img-datasets/mnist.npz\n",
            "11493376/11490434 [==============================] - 1s 0us/step\n",
            "2019-06-11 16:42:07.992365\n"
          ],
          "name": "stdout"
        }
      ]
    },
    {
      "cell_type": "code",
      "metadata": {
        "id": "4a4Be72j8-ZC",
        "colab_type": "code",
        "colab": {
          "base_uri": "https://localhost:8080/",
          "height": 303
        },
        "outputId": "3ecdfa85-7b4f-41d5-83e4-107a11d17711"
      },
      "source": [
        "print (X_train.shape)\n",
        "from matplotlib import pyplot as plt\n",
        "%matplotlib inline\n",
        "plt.imshow(X_train[0])\n",
        "print(datetime.datetime.now())"
      ],
      "execution_count": 5,
      "outputs": [
        {
          "output_type": "stream",
          "text": [
            "(60000, 28, 28)\n",
            "2019-06-11 16:42:12.746233\n"
          ],
          "name": "stdout"
        },
        {
          "output_type": "display_data",
          "data": {
            "image/png": "[encoded data removed]",
            "text/plain": [
              "<Figure size 432x288 with 1 Axes>"
            ]
          },
          "metadata": {
            "tags": []
          }
        }
      ]
    },
    {
      "cell_type": "code",
      "metadata": {
        "id": "dkmprriw9AnZ",
        "colab_type": "code",
        "colab": {
          "base_uri": "https://localhost:8080/",
          "height": 34
        },
        "outputId": "903b4fce-6b86-4a52-ee1a-3e7bea69de0a"
      },
      "source": [
        "X_train = X_train.reshape(X_train.shape[0], 28, 28,1)\n",
        "X_test = X_test.reshape(X_test.shape[0], 28, 28,1)\n",
        "print(datetime.datetime.now())"
      ],
      "execution_count": 6,
      "outputs": [
        {
          "output_type": "stream",
          "text": [
            "2019-06-11 16:42:21.046811\n"
          ],
          "name": "stdout"
        }
      ]
    },
    {
      "cell_type": "code",
      "metadata": {
        "id": "X2m4YS4E9CRh",
        "colab_type": "code",
        "colab": {
          "base_uri": "https://localhost:8080/",
          "height": 34
        },
        "outputId": "9851fb5b-2e53-421e-b2b9-9f4ea79665a4"
      },
      "source": [
        "X_train = X_train.astype('float32')\n",
        "X_test = X_test.astype('float32')\n",
        "X_train /= 255\n",
        "X_test /= 255\n",
        "print(datetime.datetime.now())"
      ],
      "execution_count": 7,
      "outputs": [
        {
          "output_type": "stream",
          "text": [
            "2019-06-11 16:42:27.019516\n"
          ],
          "name": "stdout"
        }
      ]
    },
    {
      "cell_type": "code",
      "metadata": {
        "id": "0Mn0vAYD9DvB",
        "colab_type": "code",
        "colab": {
          "base_uri": "https://localhost:8080/",
          "height": 34
        },
        "outputId": "598f6d67-2c7c-4223-9e74-f30f9434dcb6"
      },
      "source": [
        "y_train[:10]\n",
        "print(datetime.datetime.now())"
      ],
      "execution_count": 8,
      "outputs": [
        {
          "output_type": "stream",
          "text": [
            "2019-06-11 16:42:32.029628\n"
          ],
          "name": "stdout"
        }
      ]
    },
    {
      "cell_type": "code",
      "metadata": {
        "id": "ZG8JiXR39FHC",
        "colab_type": "code",
        "colab": {
          "base_uri": "https://localhost:8080/",
          "height": 34
        },
        "outputId": "44cb1663-daaa-4e0a-db09-b03ff0c96790"
      },
      "source": [
        "# Convert 1-dimensional class arrays to 10-dimensional class matrices\n",
        "Y_train = np_utils.to_categorical(y_train, 10)\n",
        "Y_test = np_utils.to_categorical(y_test, 10)\n",
        "print(datetime.datetime.now())"
      ],
      "execution_count": 9,
      "outputs": [
        {
          "output_type": "stream",
          "text": [
            "2019-06-11 16:42:39.963101\n"
          ],
          "name": "stdout"
        }
      ]
    },
    {
      "cell_type": "code",
      "metadata": {
        "id": "fYlFRvKS9HMB",
        "colab_type": "code",
        "colab": {
          "base_uri": "https://localhost:8080/",
          "height": 34
        },
        "outputId": "365b8328-8175-4170-e4fe-757dc4dbcdd3"
      },
      "source": [
        "Y_train[:10]\n",
        "print(datetime.datetime.now())"
      ],
      "execution_count": 10,
      "outputs": [
        {
          "output_type": "stream",
          "text": [
            "2019-06-11 16:42:42.601429\n"
          ],
          "name": "stdout"
        }
      ]
    },
    {
      "cell_type": "code",
      "metadata": {
        "id": "5JRLjFqOa7KG",
        "colab_type": "code",
        "colab": {}
      },
      "source": [
        "img_rows = 28\n",
        "img_cols = 28\n",
        "img_channels = 1"
      ],
      "execution_count": 0,
      "outputs": []
    },
    {
      "cell_type": "code",
      "metadata": {
        "id": "osKqT73Q9JJB",
        "colab_type": "code",
        "colab": {
          "base_uri": "https://localhost:8080/",
          "height": 241
        },
        "outputId": "877c4bc5-2d1d-460f-d4bc-ce64fafc668f"
      },
      "source": [
        "## MAIN BLOCK\n",
        "from keras.models import Model\n",
        "\n",
        "x1 = Input(shape=(img_rows,img_cols,img_channels))\n",
        "#Layer 1\n",
        "x2 = Conv2D(32,(3,3),strides=(1,1),name='conv_1',border_mode='same',use_bias=False,activation='relu')(x1)\n",
        "concatenate1 = concatenate([x1,x2],axis=-1)\n",
        "\n",
        "x3 = Conv2D(32,(3,3),strides=(1,1),name='conv_2',border_mode='same',use_bias=False,activation='relu')(concatenate1)\n",
        "concatenate2 = concatenate([concatenate1,x3],axis=-1)\n",
        "\n",
        "x4 = MaxPooling2D(pool_size=(2, 2))(concatenate2)\n",
        "x5 = Conv2D(32,(3,3),strides=(1,1),name='conv_3',border_mode='same',use_bias=False,activation='relu')(x4)\n",
        "concatenate3 = concatenate([x4,x5],axis=-1)\n",
        "\n",
        "x6 = Conv2D(32,(3,3),strides=(1,1),name='conv_4',border_mode='same',use_bias=False,activation='relu')(concatenate3)\n",
        "concatenate4 = concatenate([concatenate3,x6],axis=-1)\n",
        "\n",
        "x7 = Conv2D(32,(3,3),strides=(1,1),name='conv_5',border_mode='same',use_bias=False,activation='relu')(concatenate4)\n",
        "concatenate5 = concatenate([x5,x6],axis=-1)\n",
        "concatenate6 = concatenate([concatenate5,x7],axis=-1)\n",
        "\n",
        "x8 = MaxPooling2D(pool_size=(2, 2))(concatenate6)\n",
        "x9 = Conv2D(32,(3,3),strides=(1,1),name='conv_6',border_mode='same',use_bias=False,activation='relu')(x8)\n",
        "concatenate7 = concatenate([x8,x9],axis=-1)\n",
        "\n",
        "x10 = Conv2D(32,(3,3),strides=(1,1),name='conv_7',border_mode='same',use_bias=False,activation='relu')(concatenate7)\n",
        "concatenate8 = concatenate([concatenate7,x10],axis=-1)\n",
        "\n",
        "x11 = Conv2D(32,(3,3),strides=(1,1),name='conv_8',border_mode='same',use_bias=False,activation='relu')(concatenate8)\n",
        "\n",
        "layer10 = Conv2D(10,(7,7),strides=(1,1),name='conv_9',use_bias=False)(x11)\n",
        "layer11 = Flatten()(layer10)\n",
        "\n",
        "output = Activation('softmax')(layer11)\n"
      ],
      "execution_count": 15,
      "outputs": [
        {
          "output_type": "stream",
          "text": [
            "/usr/local/lib/python3.6/dist-packages/ipykernel_launcher.py:5: UserWarning: Update your `Conv2D` call to the Keras 2 API: `Conv2D(32, (3, 3), strides=(1, 1), name=\"conv_1\", use_bias=False, activation=\"relu\", padding=\"same\")`\n",
            "  \"\"\"\n",
            "/usr/local/lib/python3.6/dist-packages/ipykernel_launcher.py:8: UserWarning: Update your `Conv2D` call to the Keras 2 API: `Conv2D(32, (3, 3), strides=(1, 1), name=\"conv_2\", use_bias=False, activation=\"relu\", padding=\"same\")`\n",
            "  \n",
            "/usr/local/lib/python3.6/dist-packages/ipykernel_launcher.py:12: UserWarning: Update your `Conv2D` call to the Keras 2 API: `Conv2D(32, (3, 3), strides=(1, 1), name=\"conv_3\", use_bias=False, activation=\"relu\", padding=\"same\")`\n",
            "  if sys.path[0] == '':\n",
            "/usr/local/lib/python3.6/dist-packages/ipykernel_launcher.py:15: UserWarning: Update your `Conv2D` call to the Keras 2 API: `Conv2D(32, (3, 3), strides=(1, 1), name=\"conv_4\", use_bias=False, activation=\"relu\", padding=\"same\")`\n",
            "  from ipykernel import kernelapp as app\n",
            "/usr/local/lib/python3.6/dist-packages/ipykernel_launcher.py:18: UserWarning: Update your `Conv2D` call to the Keras 2 API: `Conv2D(32, (3, 3), strides=(1, 1), name=\"conv_5\", use_bias=False, activation=\"relu\", padding=\"same\")`\n",
            "/usr/local/lib/python3.6/dist-packages/ipykernel_launcher.py:23: UserWarning: Update your `Conv2D` call to the Keras 2 API: `Conv2D(32, (3, 3), strides=(1, 1), name=\"conv_6\", use_bias=False, activation=\"relu\", padding=\"same\")`\n",
            "/usr/local/lib/python3.6/dist-packages/ipykernel_launcher.py:26: UserWarning: Update your `Conv2D` call to the Keras 2 API: `Conv2D(32, (3, 3), strides=(1, 1), name=\"conv_7\", use_bias=False, activation=\"relu\", padding=\"same\")`\n",
            "/usr/local/lib/python3.6/dist-packages/ipykernel_launcher.py:29: UserWarning: Update your `Conv2D` call to the Keras 2 API: `Conv2D(32, (3, 3), strides=(1, 1), name=\"conv_8\", use_bias=False, activation=\"relu\", padding=\"same\")`\n"
          ],
          "name": "stderr"
        }
      ]
    },
    {
      "cell_type": "code",
      "metadata": {
        "id": "TzdAYg1k9K7Z",
        "colab_type": "code",
        "colab": {
          "base_uri": "https://localhost:8080/",
          "height": 1037
        },
        "outputId": "6377e790-4d21-4aef-b216-95addf49464a"
      },
      "source": [
        "model = Model(inputs=[x1], outputs=[output])  \n",
        "model.summary()\n",
        "\n",
        "print(datetime.datetime.now())"
      ],
      "execution_count": 17,
      "outputs": [
        {
          "output_type": "stream",
          "text": [
            "__________________________________________________________________________________________________\n",
            "Layer (type)                    Output Shape         Param #     Connected to                     \n",
            "==================================================================================================\n",
            "input_3 (InputLayer)            (None, 28, 28, 1)    0                                            \n",
            "__________________________________________________________________________________________________\n",
            "conv_1 (Conv2D)                 (None, 28, 28, 32)   288         input_3[0][0]                    \n",
            "__________________________________________________________________________________________________\n",
            "concatenate_9 (Concatenate)     (None, 28, 28, 33)   0           input_3[0][0]                    \n",
            "                                                                 conv_1[0][0]                     \n",
            "__________________________________________________________________________________________________\n",
            "conv_2 (Conv2D)                 (None, 28, 28, 32)   9504        concatenate_9[0][0]              \n",
            "__________________________________________________________________________________________________\n",
            "concatenate_10 (Concatenate)    (None, 28, 28, 65)   0           concatenate_9[0][0]              \n",
            "                                                                 conv_2[0][0]                     \n",
            "__________________________________________________________________________________________________\n",
            "max_pooling2d_3 (MaxPooling2D)  (None, 14, 14, 65)   0           concatenate_10[0][0]             \n",
            "__________________________________________________________________________________________________\n",
            "conv_3 (Conv2D)                 (None, 14, 14, 32)   18720       max_pooling2d_3[0][0]            \n",
            "__________________________________________________________________________________________________\n",
            "concatenate_11 (Concatenate)    (None, 14, 14, 97)   0           max_pooling2d_3[0][0]            \n",
            "                                                                 conv_3[0][0]                     \n",
            "__________________________________________________________________________________________________\n",
            "conv_4 (Conv2D)                 (None, 14, 14, 32)   27936       concatenate_11[0][0]             \n",
            "__________________________________________________________________________________________________\n",
            "concatenate_12 (Concatenate)    (None, 14, 14, 129)  0           concatenate_11[0][0]             \n",
            "                                                                 conv_4[0][0]                     \n",
            "__________________________________________________________________________________________________\n",
            "concatenate_13 (Concatenate)    (None, 14, 14, 64)   0           conv_3[0][0]                     \n",
            "                                                                 conv_4[0][0]                     \n",
            "__________________________________________________________________________________________________\n",
            "conv_5 (Conv2D)                 (None, 14, 14, 32)   37152       concatenate_12[0][0]             \n",
            "__________________________________________________________________________________________________\n",
            "concatenate_14 (Concatenate)    (None, 14, 14, 96)   0           concatenate_13[0][0]             \n",
            "                                                                 conv_5[0][0]                     \n",
            "__________________________________________________________________________________________________\n",
            "max_pooling2d_4 (MaxPooling2D)  (None, 7, 7, 96)     0           concatenate_14[0][0]             \n",
            "__________________________________________________________________________________________________\n",
            "conv_6 (Conv2D)                 (None, 7, 7, 32)     27648       max_pooling2d_4[0][0]            \n",
            "__________________________________________________________________________________________________\n",
            "concatenate_15 (Concatenate)    (None, 7, 7, 128)    0           max_pooling2d_4[0][0]            \n",
            "                                                                 conv_6[0][0]                     \n",
            "__________________________________________________________________________________________________\n",
            "conv_7 (Conv2D)                 (None, 7, 7, 32)     36864       concatenate_15[0][0]             \n",
            "__________________________________________________________________________________________________\n",
            "concatenate_16 (Concatenate)    (None, 7, 7, 160)    0           concatenate_15[0][0]             \n",
            "                                                                 conv_7[0][0]                     \n",
            "__________________________________________________________________________________________________\n",
            "conv_8 (Conv2D)                 (None, 7, 7, 32)     46080       concatenate_16[0][0]             \n",
            "__________________________________________________________________________________________________\n",
            "conv_9 (Conv2D)                 (None, 1, 1, 10)     15680       conv_8[0][0]                     \n",
            "__________________________________________________________________________________________________\n",
            "flatten_1 (Flatten)             (None, 10)           0           conv_9[0][0]                     \n",
            "__________________________________________________________________________________________________\n",
            "activation_1 (Activation)       (None, 10)           0           flatten_1[0][0]                  \n",
            "==================================================================================================\n",
            "Total params: 219,872\n",
            "Trainable params: 219,872\n",
            "Non-trainable params: 0\n",
            "__________________________________________________________________________________________________\n",
            "2019-06-11 16:48:47.054728\n"
          ],
          "name": "stdout"
        }
      ]
    },
    {
      "cell_type": "code",
      "metadata": {
        "id": "Zp6SuGrL9M3h",
        "colab_type": "code",
        "colab": {
          "base_uri": "https://localhost:8080/",
          "height": 34
        },
        "outputId": "b25130a5-fd2e-4564-a0bb-d51cecfd2795"
      },
      "source": [
        "model.compile(loss='categorical_crossentropy',\n",
        "             optimizer='adam',\n",
        "             metrics=['accuracy'])\n",
        "print(datetime.datetime.now())"
      ],
      "execution_count": 18,
      "outputs": [
        {
          "output_type": "stream",
          "text": [
            "2019-06-11 16:48:58.319648\n"
          ],
          "name": "stdout"
        }
      ]
    },
    {
      "cell_type": "code",
      "metadata": {
        "id": "4xWoKhPY9Of5",
        "colab_type": "code",
        "colab": {
          "base_uri": "https://localhost:8080/",
          "height": 479
        },
        "outputId": "683accf7-f94a-4f0e-de7f-9347b88d2bf8"
      },
      "source": [
        "model.fit(X_train, Y_train, batch_size=32, nb_epoch=10, verbose=1)\n",
        "print(datetime.datetime.now())"
      ],
      "execution_count": 19,
      "outputs": [
        {
          "output_type": "stream",
          "text": [
            "WARNING:tensorflow:From /usr/local/lib/python3.6/dist-packages/tensorflow/python/ops/math_ops.py:3066: to_int32 (from tensorflow.python.ops.math_ops) is deprecated and will be removed in a future version.\n",
            "Instructions for updating:\n",
            "Use tf.cast instead.\n"
          ],
          "name": "stdout"
        },
        {
          "output_type": "stream",
          "text": [
            "/usr/local/lib/python3.6/dist-packages/ipykernel_launcher.py:1: UserWarning: The `nb_epoch` argument in `fit` has been renamed `epochs`.\n",
            "  \"\"\"Entry point for launching an IPython kernel.\n"
          ],
          "name": "stderr"
        },
        {
          "output_type": "stream",
          "text": [
            "Epoch 1/10\n",
            "60000/60000 [==============================] - 18s 298us/step - loss: 0.1085 - acc: 0.9663\n",
            "Epoch 2/10\n",
            "60000/60000 [==============================] - 13s 215us/step - loss: 0.0375 - acc: 0.9881\n",
            "Epoch 3/10\n",
            "60000/60000 [==============================] - 13s 216us/step - loss: 0.0259 - acc: 0.9918\n",
            "Epoch 4/10\n",
            "60000/60000 [==============================] - 13s 216us/step - loss: 0.0209 - acc: 0.9935\n",
            "Epoch 5/10\n",
            "60000/60000 [==============================] - 13s 215us/step - loss: 0.0172 - acc: 0.9946\n",
            "Epoch 6/10\n",
            "60000/60000 [==============================] - 13s 216us/step - loss: 0.0125 - acc: 0.9960\n",
            "Epoch 7/10\n",
            "60000/60000 [==============================] - 13s 216us/step - loss: 0.0122 - acc: 0.9960\n",
            "Epoch 8/10\n",
            "60000/60000 [==============================] - 13s 217us/step - loss: 0.0100 - acc: 0.9969\n",
            "Epoch 9/10\n",
            "60000/60000 [==============================] - 13s 219us/step - loss: 0.0076 - acc: 0.9976\n",
            "Epoch 10/10\n",
            "60000/60000 [==============================] - 13s 214us/step - loss: 0.0101 - acc: 0.9968\n",
            "2019-06-11 16:51:16.295122\n"
          ],
          "name": "stdout"
        }
      ]
    },
    {
      "cell_type": "code",
      "metadata": {
        "id": "AtsH-lLk-eLb",
        "colab_type": "code",
        "colab": {
          "base_uri": "https://localhost:8080/",
          "height": 34
        },
        "outputId": "726e4f3e-a5de-4a11-f1dc-06d454921041"
      },
      "source": [
        "score = model.evaluate(X_test, Y_test, verbose=0)\n",
        "print(datetime.datetime.now())"
      ],
      "execution_count": 20,
      "outputs": [
        {
          "output_type": "stream",
          "text": [
            "2019-06-11 16:52:02.634917\n"
          ],
          "name": "stdout"
        }
      ]
    },
    {
      "cell_type": "code",
      "metadata": {
        "id": "mkX8JMv79q9r",
        "colab_type": "code",
        "colab": {
          "base_uri": "https://localhost:8080/",
          "height": 51
        },
        "outputId": "5f1bad57-aacf-42cc-8c26-f256f5eed446"
      },
      "source": [
        "print(score)\n",
        "print(datetime.datetime.now())"
      ],
      "execution_count": 21,
      "outputs": [
        {
          "output_type": "stream",
          "text": [
            "[0.024877123938957538, 0.9929]\n",
            "2019-06-11 16:52:04.751354\n"
          ],
          "name": "stdout"
        }
      ]
    }
  ]
}