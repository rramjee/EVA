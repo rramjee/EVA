{
 "cells": [
  {
   "cell_type": "code",
   "execution_count": 8,
   "metadata": {},
   "outputs": [],
   "source": [
    "#RENAME\n",
    "import os\n",
    "path = 'C:/Users/ramjee_R/Desktop/EVA/Images/'\n",
    "files = os.listdir(path)\n",
    "i = 1"
   ]
  },
  {
   "cell_type": "code",
   "execution_count": 9,
   "metadata": {},
   "outputs": [
    {
     "data": {
      "text/plain": [
       "['download (10).jfif',\n",
       " 'download (11).jfif',\n",
       " 'download (12).jfif',\n",
       " 'download (13).jfif',\n",
       " 'download (14).jfif',\n",
       " 'download (15).jfif',\n",
       " 'download (16).jfif',\n",
       " 'download (17).jfif',\n",
       " 'download (18).jfif',\n",
       " 'download (19).jfif',\n",
       " 'download (20).jfif',\n",
       " 'download (21).jfif',\n",
       " 'download (22).jfif',\n",
       " 'download (3).jfif',\n",
       " 'download (4).jfif',\n",
       " 'download (5).jfif',\n",
       " 'download (6).jfif',\n",
       " 'download (7).jfif',\n",
       " 'download (8).jfif',\n",
       " 'download (9).jfif',\n",
       " 'download.jfif',\n",
       " 'download_001.jpg',\n",
       " 'download_002.jpg',\n",
       " 'download_003.jpg',\n",
       " 'images (1).jfif',\n",
       " 'images (10).jfif',\n",
       " 'images (11).jfif',\n",
       " 'images (12).jfif',\n",
       " 'images (13).jfif',\n",
       " 'images (14).jfif',\n",
       " 'images (15).jfif',\n",
       " 'images (16).jfif',\n",
       " 'images (17).jfif',\n",
       " 'images (18).jfif',\n",
       " 'images (19).jfif',\n",
       " 'images (2).jfif',\n",
       " 'images (20).jfif',\n",
       " 'images (21).jfif',\n",
       " 'images (22).jfif',\n",
       " 'images (23).jfif',\n",
       " 'images (24).jfif',\n",
       " 'images (25).jfif',\n",
       " 'images (26).jfif',\n",
       " 'images (27).jfif',\n",
       " 'images (28).jfif',\n",
       " 'images (29).jfif',\n",
       " 'images (3).jfif',\n",
       " 'images (30).jfif',\n",
       " 'images (31).jfif',\n",
       " 'images (32).jfif',\n",
       " 'images (33).jfif',\n",
       " 'images (34).jfif',\n",
       " 'images (35).jfif',\n",
       " 'images (36).jfif',\n",
       " 'images (37).jfif',\n",
       " 'images (38).jfif',\n",
       " 'images (39).jfif',\n",
       " 'images (4).jfif',\n",
       " 'images (40).jfif',\n",
       " 'images (41).jfif',\n",
       " 'images (42).jfif',\n",
       " 'images (43).jfif',\n",
       " 'images (44).jfif',\n",
       " 'images (45).jfif',\n",
       " 'images (46).jfif',\n",
       " 'images (47).jfif',\n",
       " 'images (48).jfif',\n",
       " 'images (49).jfif',\n",
       " 'images (5).jfif',\n",
       " 'images (50).jfif',\n",
       " 'images (51).jfif',\n",
       " 'images (52).jfif',\n",
       " 'images (53).jfif',\n",
       " 'images (54).jfif',\n",
       " 'images (55).jfif',\n",
       " 'images (56).jfif',\n",
       " 'images (57).jfif',\n",
       " 'images (58).jfif',\n",
       " 'images (59).jfif',\n",
       " 'images (6).jfif',\n",
       " 'images (60).jfif',\n",
       " 'images (61).jfif',\n",
       " 'images (62).jfif',\n",
       " 'images (63).jfif',\n",
       " 'images (64).jfif',\n",
       " 'images (65).jfif',\n",
       " 'images (66).jfif',\n",
       " 'images (67).jfif',\n",
       " 'images (68).jfif',\n",
       " 'images (69).jfif',\n",
       " 'images (7).jfif',\n",
       " 'images (70).jfif',\n",
       " 'images (71).jfif',\n",
       " 'images (72).jfif',\n",
       " 'images (73).jfif',\n",
       " 'images (74).jfif',\n",
       " 'images (75).jfif',\n",
       " 'images (76).jfif',\n",
       " 'images (8).jfif',\n",
       " 'images (9).jfif',\n",
       " 'images.jfif']"
      ]
     },
     "execution_count": 9,
     "metadata": {},
     "output_type": "execute_result"
    }
   ],
   "source": [
    "files"
   ]
  },
  {
   "cell_type": "code",
   "execution_count": 10,
   "metadata": {},
   "outputs": [],
   "source": [
    "for file in files:\n",
    "    if (i<10):\n",
    "        #print(file)\n",
    "        os.rename(path+file,\"img_00\" + str(i) +'.jpg')\n",
    "    else:\n",
    "        #print(file)\n",
    "        os.rename(path+file,\"img_0\" + str(i) +'.jpg')\n",
    "    i = i+1    "
   ]
  },
  {
   "cell_type": "code",
   "execution_count": 12,
   "metadata": {},
   "outputs": [],
   "source": [
    "#RESIZE    \n",
    "from PIL import Image    \n",
    "files = os.listdir(path)\n",
    "#files.remove('yolo.py')\n",
    "\n",
    "for file in files:\n",
    "    img = Image.open(path+file)\n",
    "    img = img.resize((400,400))\n",
    "    img.save(path+file)"
   ]
  },
  {
   "cell_type": "code",
   "execution_count": 14,
   "metadata": {},
   "outputs": [],
   "source": [
    "#RETRIVING HEIGHT AND WIDTH VALUES FROM JSON    \n",
    "import pandas as pd\n",
    "data = pd.read_json(\"via_project_28Sep2019_22h34m.json\")\n",
    "img_data = data['_via_img_metadata']\n",
    "width_list = []\n",
    "height_list = []\n",
    "\n",
    "for key,value in img_data.items():\n",
    "    if('img' in key):\n",
    "        for i,j in value.items():\n",
    "            if(isinstance(value[i],list)):\n",
    "                for i in value[i]:\n",
    "                    for a,b in i.items():\n",
    "                        for c,d in b.items():\n",
    "                            if('width' in c):\n",
    "                                width_list.append(d)\n",
    "                            elif('height' in c):\n",
    "                                height_list.append(d)"
   ]
  },
  {
   "cell_type": "code",
   "execution_count": 15,
   "metadata": {},
   "outputs": [],
   "source": [
    "#CONVERTING LIST INTO DATAFRAME\n",
    "hw = pd.DataFrame()\n",
    "hw['height'] = height_list\n",
    "hw['width'] = width_list"
   ]
  },
  {
   "cell_type": "code",
   "execution_count": 16,
   "metadata": {},
   "outputs": [],
   "source": [
    "#NORMALIZING DATASET\n",
    "from sklearn.preprocessing import MinMaxScaler\n",
    "scaler = MinMaxScaler()\n",
    "scaled = scaler.fit_transform(hw)"
   ]
  },
  {
   "cell_type": "code",
   "execution_count": 17,
   "metadata": {},
   "outputs": [],
   "source": [
    "#APPLYING K-MEANS\n",
    "from sklearn.cluster import KMeans\n",
    "kmeans = KMeans(n_clusters = 4, init = 'k-means++', random_state = 42)\n",
    "y_kmeans = kmeans.fit_predict(scaled)"
   ]
  },
  {
   "cell_type": "code",
   "execution_count": 18,
   "metadata": {},
   "outputs": [
    {
     "data": {
      "text/plain": [
       "array([[0.59538888, 0.28765221],\n",
       "       [0.34976297, 0.21831728],\n",
       "       [0.78834356, 0.63410596],\n",
       "       [0.12851146, 0.10508888]])"
      ]
     },
     "execution_count": 18,
     "metadata": {},
     "output_type": "execute_result"
    }
   ],
   "source": [
    "#FINDING CLUSTER CENTERS\n",
    "kmeans.cluster_centers_"
   ]
  },
  {
   "cell_type": "code",
   "execution_count": 19,
   "metadata": {},
   "outputs": [],
   "source": [
    "#FINDING INVERSE_TRANSFORM OF CLUSTER CENTROIDS\n",
    "unscaled = scaler.inverse_transform(kmeans.cluster_centers_)"
   ]
  }
 ],
 "metadata": {
  "kernelspec": {
   "display_name": "Python 3",
   "language": "python",
   "name": "python3"
  },
  "language_info": {
   "codemirror_mode": {
    "name": "ipython",
    "version": 3
   },
   "file_extension": ".py",
   "mimetype": "text/x-python",
   "name": "python",
   "nbconvert_exporter": "python",
   "pygments_lexer": "ipython3",
   "version": "3.6.5"
  }
 },
 "nbformat": 4,
 "nbformat_minor": 2
}
