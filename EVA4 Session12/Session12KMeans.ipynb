{
 "cells": [
  {
   "cell_type": "code",
   "execution_count": 1,
   "metadata": {
    "colab": {
     "base_uri": "https://localhost:8080/",
     "height": 125
    },
    "colab_type": "code",
    "id": "aRfdFrW_Zg7T",
    "outputId": "f9785780-6990-4da0-a565-b9c06e0e76e0"
   },
   "outputs": [
    {
     "name": "stdout",
     "output_type": "stream",
     "text": [
      "Go to this URL in a browser: https://accounts.google.com/o/oauth2/auth?client_id=947318989803-6bn6qk8qdgf4n4g3pfee6491hc0brc4i.apps.googleusercontent.com&redirect_uri=urn%3aietf%3awg%3aoauth%3a2.0%3aoob&response_type=code&scope=email%20https%3a%2f%2fwww.googleapis.com%2fauth%2fdocs.test%20https%3a%2f%2fwww.googleapis.com%2fauth%2fdrive%20https%3a%2f%2fwww.googleapis.com%2fauth%2fdrive.photos.readonly%20https%3a%2f%2fwww.googleapis.com%2fauth%2fpeopleapi.readonly\n",
      "\n",
      "Enter your authorization code:\n",
      "··········\n",
      "Mounted at /content/gdrive\n"
     ]
    }
   ],
   "source": [
    "# mount gdrive and unzip data\n",
    "from google.colab import drive\n",
    "drive.mount('/content/gdrive')"
   ]
  },
  {
   "cell_type": "code",
   "execution_count": 2,
   "metadata": {
    "colab": {},
    "colab_type": "code",
    "id": "Js1xqRmGZ03a"
   },
   "outputs": [],
   "source": [
    "import sys\n",
    "import os \n",
    "workingdir = '/content/gdrive/My Drive/Colab Notebooks/EVA4/Session12'\n",
    "sys.path.append(workingdir)"
   ]
  },
  {
   "cell_type": "code",
   "execution_count": 3,
   "metadata": {
    "colab": {
     "base_uri": "https://localhost:8080/",
     "height": 72
    },
    "colab_type": "code",
    "id": "cAz2fWfAa5Sd",
    "outputId": "112df3da-1432-4ffd-8a43-c06304bd86ac"
   },
   "outputs": [
    {
     "name": "stderr",
     "output_type": "stream",
     "text": [
      "/usr/local/lib/python3.6/dist-packages/sklearn/utils/deprecation.py:144: FutureWarning: The sklearn.datasets.samples_generator module is  deprecated in version 0.22 and will be removed in version 0.24. The corresponding classes / functions should instead be imported from sklearn.datasets. Anything that cannot be imported from sklearn.datasets is now part of the private API.\n",
      "  warnings.warn(message, FutureWarning)\n"
     ]
    }
   ],
   "source": [
    "import numpy as np\n",
    "import pandas as pd\n",
    "import json\n",
    "from matplotlib import pyplot as plt\n",
    "from sklearn.datasets.samples_generator import make_blobs\n",
    "from sklearn.cluster import KMeans"
   ]
  },
  {
   "cell_type": "code",
   "execution_count": 5,
   "metadata": {
    "colab": {
     "base_uri": "https://localhost:8080/",
     "height": 34
    },
    "colab_type": "code",
    "id": "CLGVEbuhveqc",
    "outputId": "de924753-0108-40fc-b5e0-3e8e40040d1b"
   },
   "outputs": [
    {
     "name": "stdout",
     "output_type": "stream",
     "text": [
      "dict_keys(['info', 'images', 'annotations', 'licenses', 'categories'])\n"
     ]
    }
   ],
   "source": [
    "#Read COCO JSON File\n",
    "fptr = open('/content/gdrive/My Drive/Colab Notebooks/EVA4/Session12/via_export_coco_new.json')\n",
    "data = json.load(fptr)\n",
    "print(data.keys())"
   ]
  },
  {
   "cell_type": "code",
   "execution_count": 6,
   "metadata": {
    "colab": {},
    "colab_type": "code",
    "id": "jQFKeSOqvf0R"
   },
   "outputs": [],
   "source": [
    "#Extract Details\n",
    "images_df = pd.DataFrame(data['images'], columns = data['images'][0].keys())\n",
    "annotations_df = pd.DataFrame(data['annotations'], columns = data['annotations'][0].keys())"
   ]
  },
  {
   "cell_type": "code",
   "execution_count": 7,
   "metadata": {
    "colab": {
     "base_uri": "https://localhost:8080/",
     "height": 197
    },
    "colab_type": "code",
    "id": "H6v72mkjwFj1",
    "outputId": "91f73b3c-f5e3-4356-dafc-e85269808a9a"
   },
   "outputs": [
    {
     "data": {
      "text/html": [
       "<div>\n",
       "<style scoped>\n",
       "    .dataframe tbody tr th:only-of-type {\n",
       "        vertical-align: middle;\n",
       "    }\n",
       "\n",
       "    .dataframe tbody tr th {\n",
       "        vertical-align: top;\n",
       "    }\n",
       "\n",
       "    .dataframe thead th {\n",
       "        text-align: right;\n",
       "    }\n",
       "</style>\n",
       "<table border=\"1\" class=\"dataframe\">\n",
       "  <thead>\n",
       "    <tr style=\"text-align: right;\">\n",
       "      <th></th>\n",
       "      <th>id</th>\n",
       "      <th>width</th>\n",
       "      <th>height</th>\n",
       "      <th>file_name</th>\n",
       "      <th>license</th>\n",
       "      <th>date_captured</th>\n",
       "    </tr>\n",
       "  </thead>\n",
       "  <tbody>\n",
       "    <tr>\n",
       "      <th>0</th>\n",
       "      <td>0</td>\n",
       "      <td>275</td>\n",
       "      <td>183</td>\n",
       "      <td>img001.jpg</td>\n",
       "      <td>1</td>\n",
       "      <td></td>\n",
       "    </tr>\n",
       "    <tr>\n",
       "      <th>1</th>\n",
       "      <td>1</td>\n",
       "      <td>259</td>\n",
       "      <td>194</td>\n",
       "      <td>img002.jpg</td>\n",
       "      <td>1</td>\n",
       "      <td></td>\n",
       "    </tr>\n",
       "    <tr>\n",
       "      <th>2</th>\n",
       "      <td>2</td>\n",
       "      <td>201</td>\n",
       "      <td>251</td>\n",
       "      <td>img003.jpg</td>\n",
       "      <td>1</td>\n",
       "      <td></td>\n",
       "    </tr>\n",
       "    <tr>\n",
       "      <th>3</th>\n",
       "      <td>3</td>\n",
       "      <td>251</td>\n",
       "      <td>201</td>\n",
       "      <td>img004.jpg</td>\n",
       "      <td>1</td>\n",
       "      <td></td>\n",
       "    </tr>\n",
       "    <tr>\n",
       "      <th>4</th>\n",
       "      <td>4</td>\n",
       "      <td>279</td>\n",
       "      <td>181</td>\n",
       "      <td>img005.jpg</td>\n",
       "      <td>1</td>\n",
       "      <td></td>\n",
       "    </tr>\n",
       "  </tbody>\n",
       "</table>\n",
       "</div>"
      ],
      "text/plain": [
       "   id  width  height   file_name  license date_captured\n",
       "0   0    275     183  img001.jpg        1              \n",
       "1   1    259     194  img002.jpg        1              \n",
       "2   2    201     251  img003.jpg        1              \n",
       "3   3    251     201  img004.jpg        1              \n",
       "4   4    279     181  img005.jpg        1              "
      ]
     },
     "execution_count": 7,
     "metadata": {
      "tags": []
     },
     "output_type": "execute_result"
    }
   ],
   "source": [
    "images_df.head()"
   ]
  },
  {
   "cell_type": "code",
   "execution_count": 8,
   "metadata": {
    "colab": {
     "base_uri": "https://localhost:8080/",
     "height": 197
    },
    "colab_type": "code",
    "id": "ZZLbCcyCwFd1",
    "outputId": "549cfdbc-9d0c-4b78-f836-1e2d5b9023cf"
   },
   "outputs": [
    {
     "data": {
      "text/html": [
       "<div>\n",
       "<style scoped>\n",
       "    .dataframe tbody tr th:only-of-type {\n",
       "        vertical-align: middle;\n",
       "    }\n",
       "\n",
       "    .dataframe tbody tr th {\n",
       "        vertical-align: top;\n",
       "    }\n",
       "\n",
       "    .dataframe thead th {\n",
       "        text-align: right;\n",
       "    }\n",
       "</style>\n",
       "<table border=\"1\" class=\"dataframe\">\n",
       "  <thead>\n",
       "    <tr style=\"text-align: right;\">\n",
       "      <th></th>\n",
       "      <th>id</th>\n",
       "      <th>image_id</th>\n",
       "      <th>segmentation</th>\n",
       "      <th>area</th>\n",
       "      <th>bbox</th>\n",
       "      <th>iscrowd</th>\n",
       "    </tr>\n",
       "  </thead>\n",
       "  <tbody>\n",
       "    <tr>\n",
       "      <th>0</th>\n",
       "      <td>0</td>\n",
       "      <td>0</td>\n",
       "      <td>[91, 6, 214, 6, 214, 178, 91, 178]</td>\n",
       "      <td>21156</td>\n",
       "      <td>[91, 6, 123, 172]</td>\n",
       "      <td>0</td>\n",
       "    </tr>\n",
       "    <tr>\n",
       "      <th>1</th>\n",
       "      <td>1</td>\n",
       "      <td>1</td>\n",
       "      <td>[26, 13, 187, 13, 187, 188, 26, 188]</td>\n",
       "      <td>28175</td>\n",
       "      <td>[26, 13, 161, 175]</td>\n",
       "      <td>0</td>\n",
       "    </tr>\n",
       "    <tr>\n",
       "      <th>2</th>\n",
       "      <td>2</td>\n",
       "      <td>2</td>\n",
       "      <td>[42, 35, 150, 35, 150, 244, 42, 244]</td>\n",
       "      <td>22572</td>\n",
       "      <td>[42, 35, 108, 209]</td>\n",
       "      <td>0</td>\n",
       "    </tr>\n",
       "    <tr>\n",
       "      <th>3</th>\n",
       "      <td>3</td>\n",
       "      <td>3</td>\n",
       "      <td>[37, 36, 195, 36, 195, 180, 37, 180]</td>\n",
       "      <td>22752</td>\n",
       "      <td>[37, 36, 158, 144]</td>\n",
       "      <td>0</td>\n",
       "    </tr>\n",
       "    <tr>\n",
       "      <th>4</th>\n",
       "      <td>4</td>\n",
       "      <td>4</td>\n",
       "      <td>[13, 5, 106, 5, 106, 179, 13, 179]</td>\n",
       "      <td>16182</td>\n",
       "      <td>[13, 5, 93, 174]</td>\n",
       "      <td>0</td>\n",
       "    </tr>\n",
       "  </tbody>\n",
       "</table>\n",
       "</div>"
      ],
      "text/plain": [
       "   id image_id  ...                bbox  iscrowd\n",
       "0   0        0  ...   [91, 6, 123, 172]        0\n",
       "1   1        1  ...  [26, 13, 161, 175]        0\n",
       "2   2        2  ...  [42, 35, 108, 209]        0\n",
       "3   3        3  ...  [37, 36, 158, 144]        0\n",
       "4   4        4  ...    [13, 5, 93, 174]        0\n",
       "\n",
       "[5 rows x 6 columns]"
      ]
     },
     "execution_count": 8,
     "metadata": {
      "tags": []
     },
     "output_type": "execute_result"
    }
   ],
   "source": [
    "annotations_df.head()"
   ]
  },
  {
   "cell_type": "code",
   "execution_count": 9,
   "metadata": {
    "colab": {},
    "colab_type": "code",
    "id": "W9L-5pvawZgi"
   },
   "outputs": [],
   "source": [
    "#Extract the Box Dimensions\n",
    "dogs_df = pd.concat([images_df, annotations_df], 1)[['file_name', 'width', 'height', 'bbox']]\n",
    "x_list = []\n",
    "y_list = []\n",
    "w_list = []\n",
    "h_list = [] \n",
    "for row in range(dogs_df.shape[0]):\n",
    "  x = dogs_df['bbox'][row][0]\n",
    "  y = dogs_df['bbox'][row][1]\n",
    "  w = dogs_df['bbox'][row][2]\n",
    "  h = dogs_df['bbox'][row][3]\n",
    "  x_list.append(x)\n",
    "  y_list.append(y)\n",
    "  w_list.append(w)\n",
    "  h_list.append(h)\n",
    "box_df = pd.DataFrame(list(zip(x_list, y_list, w_list, h_list)), columns =['x', 'y', 'box_width', 'box_height'])\n",
    "dogs_df = pd.concat([dogs_df, box_df], 1)\n",
    "dogs_df = dogs_df.drop('bbox', axis =1)"
   ]
  },
  {
   "cell_type": "code",
   "execution_count": 10,
   "metadata": {
    "colab": {
     "base_uri": "https://localhost:8080/",
     "height": 197
    },
    "colab_type": "code",
    "id": "M2-VLtMZwoqO",
    "outputId": "0ed184c6-447e-4dca-afcc-0d85decbda3b"
   },
   "outputs": [
    {
     "data": {
      "text/html": [
       "<div>\n",
       "<style scoped>\n",
       "    .dataframe tbody tr th:only-of-type {\n",
       "        vertical-align: middle;\n",
       "    }\n",
       "\n",
       "    .dataframe tbody tr th {\n",
       "        vertical-align: top;\n",
       "    }\n",
       "\n",
       "    .dataframe thead th {\n",
       "        text-align: right;\n",
       "    }\n",
       "</style>\n",
       "<table border=\"1\" class=\"dataframe\">\n",
       "  <thead>\n",
       "    <tr style=\"text-align: right;\">\n",
       "      <th></th>\n",
       "      <th>file_name</th>\n",
       "      <th>width</th>\n",
       "      <th>height</th>\n",
       "      <th>x</th>\n",
       "      <th>y</th>\n",
       "      <th>box_width</th>\n",
       "      <th>box_height</th>\n",
       "    </tr>\n",
       "  </thead>\n",
       "  <tbody>\n",
       "    <tr>\n",
       "      <th>0</th>\n",
       "      <td>img001.jpg</td>\n",
       "      <td>275</td>\n",
       "      <td>183</td>\n",
       "      <td>91</td>\n",
       "      <td>6</td>\n",
       "      <td>123</td>\n",
       "      <td>172</td>\n",
       "    </tr>\n",
       "    <tr>\n",
       "      <th>1</th>\n",
       "      <td>img002.jpg</td>\n",
       "      <td>259</td>\n",
       "      <td>194</td>\n",
       "      <td>26</td>\n",
       "      <td>13</td>\n",
       "      <td>161</td>\n",
       "      <td>175</td>\n",
       "    </tr>\n",
       "    <tr>\n",
       "      <th>2</th>\n",
       "      <td>img003.jpg</td>\n",
       "      <td>201</td>\n",
       "      <td>251</td>\n",
       "      <td>42</td>\n",
       "      <td>35</td>\n",
       "      <td>108</td>\n",
       "      <td>209</td>\n",
       "    </tr>\n",
       "    <tr>\n",
       "      <th>3</th>\n",
       "      <td>img004.jpg</td>\n",
       "      <td>251</td>\n",
       "      <td>201</td>\n",
       "      <td>37</td>\n",
       "      <td>36</td>\n",
       "      <td>158</td>\n",
       "      <td>144</td>\n",
       "    </tr>\n",
       "    <tr>\n",
       "      <th>4</th>\n",
       "      <td>img005.jpg</td>\n",
       "      <td>279</td>\n",
       "      <td>181</td>\n",
       "      <td>13</td>\n",
       "      <td>5</td>\n",
       "      <td>93</td>\n",
       "      <td>174</td>\n",
       "    </tr>\n",
       "  </tbody>\n",
       "</table>\n",
       "</div>"
      ],
      "text/plain": [
       "    file_name  width  height   x   y  box_width  box_height\n",
       "0  img001.jpg    275     183  91   6        123         172\n",
       "1  img002.jpg    259     194  26  13        161         175\n",
       "2  img003.jpg    201     251  42  35        108         209\n",
       "3  img004.jpg    251     201  37  36        158         144\n",
       "4  img005.jpg    279     181  13   5         93         174"
      ]
     },
     "execution_count": 10,
     "metadata": {
      "tags": []
     },
     "output_type": "execute_result"
    }
   ],
   "source": [
    "dogs_df.head()"
   ]
  },
  {
   "cell_type": "code",
   "execution_count": 11,
   "metadata": {
    "colab": {},
    "colab_type": "code",
    "id": "ofEdrLij3s44"
   },
   "outputs": [],
   "source": [
    "#Normalize the Box Dimensions based on Image Height and Width\n",
    "dogs_df['x'] = dogs_df['x'] / dogs_df['width']\n",
    "dogs_df['y'] = dogs_df['y'] / dogs_df['height']\n",
    "dogs_df['box_width'] = dogs_df['box_width'] / dogs_df['width']\n",
    "dogs_df['box_height'] = dogs_df['box_height'] / dogs_df['height']"
   ]
  },
  {
   "cell_type": "code",
   "execution_count": 12,
   "metadata": {
    "colab": {
     "base_uri": "https://localhost:8080/",
     "height": 197
    },
    "colab_type": "code",
    "id": "oaCsfBhk4XDb",
    "outputId": "db5379a4-20df-4c0f-ba1d-b3a92d127b7a"
   },
   "outputs": [
    {
     "data": {
      "text/html": [
       "<div>\n",
       "<style scoped>\n",
       "    .dataframe tbody tr th:only-of-type {\n",
       "        vertical-align: middle;\n",
       "    }\n",
       "\n",
       "    .dataframe tbody tr th {\n",
       "        vertical-align: top;\n",
       "    }\n",
       "\n",
       "    .dataframe thead th {\n",
       "        text-align: right;\n",
       "    }\n",
       "</style>\n",
       "<table border=\"1\" class=\"dataframe\">\n",
       "  <thead>\n",
       "    <tr style=\"text-align: right;\">\n",
       "      <th></th>\n",
       "      <th>file_name</th>\n",
       "      <th>width</th>\n",
       "      <th>height</th>\n",
       "      <th>x</th>\n",
       "      <th>y</th>\n",
       "      <th>box_width</th>\n",
       "      <th>box_height</th>\n",
       "    </tr>\n",
       "  </thead>\n",
       "  <tbody>\n",
       "    <tr>\n",
       "      <th>0</th>\n",
       "      <td>img001.jpg</td>\n",
       "      <td>275</td>\n",
       "      <td>183</td>\n",
       "      <td>0.330909</td>\n",
       "      <td>0.032787</td>\n",
       "      <td>0.447273</td>\n",
       "      <td>0.939891</td>\n",
       "    </tr>\n",
       "    <tr>\n",
       "      <th>1</th>\n",
       "      <td>img002.jpg</td>\n",
       "      <td>259</td>\n",
       "      <td>194</td>\n",
       "      <td>0.100386</td>\n",
       "      <td>0.067010</td>\n",
       "      <td>0.621622</td>\n",
       "      <td>0.902062</td>\n",
       "    </tr>\n",
       "    <tr>\n",
       "      <th>2</th>\n",
       "      <td>img003.jpg</td>\n",
       "      <td>201</td>\n",
       "      <td>251</td>\n",
       "      <td>0.208955</td>\n",
       "      <td>0.139442</td>\n",
       "      <td>0.537313</td>\n",
       "      <td>0.832669</td>\n",
       "    </tr>\n",
       "    <tr>\n",
       "      <th>3</th>\n",
       "      <td>img004.jpg</td>\n",
       "      <td>251</td>\n",
       "      <td>201</td>\n",
       "      <td>0.147410</td>\n",
       "      <td>0.179104</td>\n",
       "      <td>0.629482</td>\n",
       "      <td>0.716418</td>\n",
       "    </tr>\n",
       "    <tr>\n",
       "      <th>4</th>\n",
       "      <td>img005.jpg</td>\n",
       "      <td>279</td>\n",
       "      <td>181</td>\n",
       "      <td>0.046595</td>\n",
       "      <td>0.027624</td>\n",
       "      <td>0.333333</td>\n",
       "      <td>0.961326</td>\n",
       "    </tr>\n",
       "  </tbody>\n",
       "</table>\n",
       "</div>"
      ],
      "text/plain": [
       "    file_name  width  height         x         y  box_width  box_height\n",
       "0  img001.jpg    275     183  0.330909  0.032787   0.447273    0.939891\n",
       "1  img002.jpg    259     194  0.100386  0.067010   0.621622    0.902062\n",
       "2  img003.jpg    201     251  0.208955  0.139442   0.537313    0.832669\n",
       "3  img004.jpg    251     201  0.147410  0.179104   0.629482    0.716418\n",
       "4  img005.jpg    279     181  0.046595  0.027624   0.333333    0.961326"
      ]
     },
     "execution_count": 12,
     "metadata": {
      "tags": []
     },
     "output_type": "execute_result"
    }
   ],
   "source": [
    "dogs_df.head()"
   ]
  },
  {
   "cell_type": "code",
   "execution_count": 13,
   "metadata": {
    "colab": {},
    "colab_type": "code",
    "id": "2qNVEgxJ5tK8"
   },
   "outputs": [],
   "source": [
    "hw_array = dogs_df[[\"box_width\", \"box_height\"]].to_numpy()"
   ]
  },
  {
   "cell_type": "code",
   "execution_count": 14,
   "metadata": {
    "colab": {
     "base_uri": "https://localhost:8080/",
     "height": 34
    },
    "colab_type": "code",
    "id": "qxoqLwsr5xzk",
    "outputId": "ce802de8-9a0a-483e-923a-02aeee4ed3e2"
   },
   "outputs": [
    {
     "data": {
      "text/plain": [
       "(50, 2)"
      ]
     },
     "execution_count": 14,
     "metadata": {
      "tags": []
     },
     "output_type": "execute_result"
    }
   ],
   "source": [
    "hw_array.shape"
   ]
  },
  {
   "cell_type": "code",
   "execution_count": 15,
   "metadata": {
    "colab": {
     "base_uri": "https://localhost:8080/",
     "height": 282
    },
    "colab_type": "code",
    "id": "tAn-PzQs57M8",
    "outputId": "5ed3ef5f-6823-49a5-bf46-41a79d22726b"
   },
   "outputs": [
    {
     "data": {
      "text/plain": [
       "<matplotlib.collections.PathCollection at 0x7f31e1668780>"
      ]
     },
     "execution_count": 15,
     "metadata": {
      "tags": []
     },
     "output_type": "execute_result"
    },
    {
     "data": {
      "image/png": "[encoded data removed]",
      "text/plain": [
       "<Figure size 432x288 with 1 Axes>"
      ]
     },
     "metadata": {
      "needs_background": "light",
      "tags": []
     },
     "output_type": "display_data"
    }
   ],
   "source": [
    "plt.scatter(hw_array[:,0], hw_array[:,1])"
   ]
  },
  {
   "cell_type": "code",
   "execution_count": 16,
   "metadata": {
    "colab": {
     "base_uri": "https://localhost:8080/",
     "height": 294
    },
    "colab_type": "code",
    "id": "SK_3xABC6DC_",
    "outputId": "d445e078-2b4a-48cc-cab4-938801076021"
   },
   "outputs": [
    {
     "data": {
      "image/png": "[encoded data removed]",
      "text/plain": [
       "<Figure size 432x288 with 1 Axes>"
      ]
     },
     "metadata": {
      "needs_background": "light",
      "tags": []
     },
     "output_type": "display_data"
    }
   ],
   "source": [
    "#Elbow Method\n",
    "wcss = []\n",
    "for i in range(1, 11):\n",
    "    kmeans = KMeans(n_clusters=i, init='k-means++', max_iter=300, n_init=10, random_state=0)\n",
    "    kmeans.fit(hw_array)\n",
    "    wcss.append(kmeans.inertia_)\n",
    "plt.plot(range(1, 11), wcss)\n",
    "plt.title('Elbow Method')\n",
    "plt.xlabel('Number of clusters')\n",
    "plt.ylabel('WCSS')\n",
    "plt.show()"
   ]
  },
  {
   "cell_type": "code",
   "execution_count": 17,
   "metadata": {
    "colab": {
     "base_uri": "https://localhost:8080/",
     "height": 264
    },
    "colab_type": "code",
    "id": "hQY6lMzu7HzB",
    "outputId": "0ef4fb9f-7ee7-4407-aba9-717bfc3bd902"
   },
   "outputs": [
    {
     "data": {
      "image/png": "[encoded data removed]",
      "text/plain": [
       "<Figure size 432x288 with 1 Axes>"
      ]
     },
     "metadata": {
      "needs_background": "light",
      "tags": []
     },
     "output_type": "display_data"
    }
   ],
   "source": [
    "#Determine the optimal number of clusters\n",
    "kmeans = KMeans(n_clusters=5, init='k-means++', max_iter=300, n_init=10, random_state=0)\n",
    "pred_y = kmeans.fit_predict(hw_array)\n",
    "plt.scatter(hw_array[:,0], hw_array[:,1])\n",
    "plt.scatter(kmeans.cluster_centers_[:, 0], kmeans.cluster_centers_[:, 1], s=300, c='red')\n",
    "plt.show()"
   ]
  }
 ],
 "metadata": {
  "colab": {
   "collapsed_sections": [],
   "name": "Session12KMeans.ipynb",
   "provenance": []
  },
  "kernelspec": {
   "display_name": "Python 3",
   "language": "python",
   "name": "python3"
  },
  "language_info": {
   "codemirror_mode": {
    "name": "ipython",
    "version": 3
   },
   "file_extension": ".py",
   "mimetype": "text/x-python",
   "name": "python",
   "nbconvert_exporter": "python",
   "pygments_lexer": "ipython3",
   "version": "3.6.5"
  }
 },
 "nbformat": 4,
 "nbformat_minor": 1
}
